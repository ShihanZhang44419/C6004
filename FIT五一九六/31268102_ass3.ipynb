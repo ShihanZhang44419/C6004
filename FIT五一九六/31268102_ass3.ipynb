{
 "cells": [
  {
   "cell_type": "markdown",
   "metadata": {},
   "source": [
    "# FIT5196 Assignment 3\n",
    "\n",
    "#### Student Name:  Shihan Zhang\n",
    "\n",
    "#### Student ID:        31268102\n",
    "\n",
    "Date: 17/11/2020\n",
    "\n",
    "Version: 3.0\n",
    "\n",
    "Environment: Python 3.6.0 and Anaconda 4.3.0 (64-bit)"
   ]
  },
  {
   "cell_type": "markdown",
   "metadata": {},
   "source": [
    "# Library & packages"
   ]
  },
  {
   "cell_type": "code",
   "execution_count": 1484,
   "metadata": {},
   "outputs": [],
   "source": [
    "from urllib.request import urlopen\n",
    "from bs4 import BeautifulSoup as bs\n",
    "from tabula import read_pdf\n",
    "from math import radians, cos, sin, asin, sqrt\n",
    "from haversine import haversine, Unit\n",
    "from datetime import datetime\n",
    "import re\n",
    "import json\n",
    "import lxml\n",
    "import xml.etree.ElementTree as ET \n",
    "import pandas as pd\n",
    "pd.options.mode.chained_assignment = None  # default='warn'"
   ]
  },
  {
   "cell_type": "code",
   "execution_count": 1485,
   "metadata": {},
   "outputs": [],
   "source": [
    "import numpy\n",
    "import matplotlib \n",
    "%matplotlib inline\n",
    "import shapefile\n",
    "import matplotlib.pyplot as plt\n",
    "import matplotlib.patches as patches\n",
    "from matplotlib.patches import Polygon\n",
    "from matplotlib.collections import PatchCollection"
   ]
  },
  {
   "cell_type": "markdown",
   "metadata": {},
   "source": [
    "# Task 1\n",
    "## Workflow\n",
    "In this task, Our purpose is to gather relevant data into real estate dat and output a complete data frame, so we need to calculate and backfill data. \n",
    "To achieve the goal, we have following steps:\n",
    "1. Read all source data\n",
    "2. Backfill data, In this step, we have two types of opreations:\n",
    "    - 2.1 simple calculation, backfill calculation result, gather data by primary key from other data frame.\n",
    "    - 2.2 complex calculation, process data by primary key associate with different data frames then back fill the calculation result.\n",
    "3. Write final data frame to csv file."
   ]
  },
  {
   "cell_type": "code",
   "execution_count": 1273,
   "metadata": {},
   "outputs": [],
   "source": [
    "# component function\n",
    "def rest_index(df):\n",
    "    df = df.rename(columns=df.iloc[0])\n",
    "    df = df.iloc[1:]\n",
    "    df.reset_index(drop=True, inplace=True)\n",
    "    return df"
   ]
  },
  {
   "cell_type": "markdown",
   "metadata": {},
   "source": [
    "## 1.1 Read source data"
   ]
  },
  {
   "cell_type": "code",
   "execution_count": 1274,
   "metadata": {},
   "outputs": [],
   "source": [
    "# read JSON real state id\n",
    "rs_data = pd.read_json('C:/Users/SENMS/Desktop/5196/31268102/real_state.json')"
   ]
  },
  {
   "cell_type": "markdown",
   "metadata": {},
   "source": [
    "### Add new column to `rs_data`.\n",
    "The base data frame `rs_data` no don't include the necessary columns, so we need to add them manually and filling with default values.\n",
    "#### Shopping center section\n",
    " - `Shopping_center_id`\n",
    " - `Distance_to_sc`\n",
    " \n",
    "#### Train station section \n",
    " - `Train_station_id` \n",
    " - `Distance_to_train_station`\n",
    " - `travel_min_to_CBD` \n",
    " - `Transfer_flag`\n",
    " \n",
    "#### Hospital section\n",
    " - `Distance_to_hospital`\n",
    " - `Supermarket_id`\n",
    " - `Distance_to_supermaket`"
   ]
  },
  {
   "cell_type": "code",
   "execution_count": 1275,
   "metadata": {},
   "outputs": [],
   "source": [
    "# add New column to rs_data\n",
    "rs_data['suburb'] = \"not available\"\n",
    "rs_data['Shopping_center_id'] = \"not available\"\n",
    "rs_data['Distance_to_sc'] = 0.0\n",
    "rs_data['Train_station_id'] = 0\n",
    "rs_data['Distance_to_train_station'] = 0.0\n",
    "rs_data['travel_min_to_CBD'] = 0.0\n",
    "rs_data['Transfer_flag'] = -1\n",
    "rs_data['Hospital_id'] = \"not available\"\n",
    "rs_data['Distance_to_hospital'] = 0.0\n",
    "rs_data['Supermarket_id'] = \"not available\"\n",
    "rs_data['Distance_to_supermaket'] = 0.0\n",
    "#rs_data.head()"
   ]
  },
  {
   "cell_type": "code",
   "execution_count": 1276,
   "metadata": {},
   "outputs": [],
   "source": [
    "# read XML real state data\n",
    "with open(\"C:/Users/SENMS/Desktop/5196/31268102/real_state.xml\", \"r\") as file:\n",
    "    # Read each line in the file, readlines() returns a list of lines\n",
    "    content = file.readlines()\n",
    "# get real_state ids    \n",
    "rs_ids = re.findall(r'(?:<n\\d+ \\w+\\W+\\w+\\W>)(\\d+)(?:</n\\d+>)', str(content))"
   ]
  },
  {
   "cell_type": "code",
   "execution_count": 1277,
   "metadata": {},
   "outputs": [],
   "source": [
    "# read XLSX shopping center data\n",
    "sc_data = pd.read_excel('C:/Users/SENMS/Desktop/5196/31268102/shopingcenters.xlsx', index_col=0)"
   ]
  },
  {
   "cell_type": "code",
   "execution_count": 1278,
   "metadata": {},
   "outputs": [],
   "source": [
    "# read HTML hospitial data\n",
    "hospitals = open('C:/Users/SENMS/Desktop/5196/31268102/hospitals.html', 'r')\n",
    "htmlhandle = hospitals.read()\n",
    "page_content = bs(htmlhandle, 'lxml')\n",
    "# extract table as df\n",
    "hosp_data = pd.read_html(str(page_content), index_col=0)\n",
    "hospitals = hosp_data[0]"
   ]
  },
  {
   "cell_type": "code",
   "execution_count": 1279,
   "metadata": {},
   "outputs": [],
   "source": [
    "# read PDF supermarket data\n",
    "sm_data = read_pdf(\"C:/Users/SENMS/Desktop/5196/31268102/supermarkets.pdf\", pages = 'all')\n",
    "sm_data = pd.concat([sm_data[0], sm_data[1], sm_data[2], sm_data[3], sm_data[4]])\n",
    "sm_data = sm_data.loc[:, ~sm_data.columns.str.contains('^Unnamed')]\n",
    "sm_data.reset_index(drop=True, inplace=True)"
   ]
  },
  {
   "cell_type": "code",
   "execution_count": 1280,
   "metadata": {},
   "outputs": [],
   "source": [
    "# read TXT files train station data\n",
    "stations = pd.read_csv('C:/Users/SENMS/Desktop/5196/31268102/GTFS - Melbourne Train Information/stops.txt', header=None)\n",
    "stations = rest_index(stations)"
   ]
  },
  {
   "cell_type": "markdown",
   "metadata": {},
   "source": [
    "## 1.2 Read shape file "
   ]
  },
  {
   "cell_type": "code",
   "execution_count": 570,
   "metadata": {},
   "outputs": [],
   "source": [
    "sf = shapefile.Reader(\"C:/Users/SENMS/Desktop/5196/31268102/vic_suburb_boundary/VIC_LOCALITY_POLYGON_shp.shp\") # note, no suffix, all 3 files are used\n",
    "recs = sf.records()\n",
    "shapes = sf.shapes()"
   ]
  },
  {
   "cell_type": "markdown",
   "metadata": {},
   "source": [
    "##### So far we have read all the data and done some processing. Now the data is ready to use. Next, we will carry out the simple calculation part."
   ]
  },
  {
   "cell_type": "markdown",
   "metadata": {},
   "source": [
    "## 2.1 Simple calculation"
   ]
  },
  {
   "cell_type": "markdown",
   "metadata": {},
   "source": [
    "## 2.1.A  Find 'The closest shopping center to the property'\n",
    "1. Calculate with the latitude and longitude records of a single row in the `rs_data` and all the latitude and longitude of the `sc_data` (this will produce 119 calculation results)\n",
    "2. save the calculation result to `distance_dict` with key as the `sc_id` and value as the `distance(calculation result)`\n",
    "3. Find the <b>minimum value</b> among 119 calculation results\n",
    "4. Replace the `sc_id` and `distance` associated with the `minimum value(closest)` record into the corresponding `rs_data` row(record).\n",
    "5. Repalce the <b>minimum value</b>(as the `Distance_to_train_station`) into the corresponding `rs_data` row."
   ]
  },
  {
   "cell_type": "code",
   "execution_count": 1282,
   "metadata": {},
   "outputs": [],
   "source": [
    "# function for calculate the distance \n",
    "def cal_distance(w_lat,w_long,c_lat,c_long):\n",
    "    # extract data\n",
    "    lon1, lat1, lon2, lat2 = map(radians,[w_long, w_lat, c_long, c_lat])\n",
    "    # haversine formula \n",
    "    dlon = lon2 - lon1 \n",
    "    dlat = lat2 - lat1 \n",
    "    a = sin(dlat/2)**2 + cos(lat1) * cos(lat2) * sin(dlon/2)**2\n",
    "    c = 2 * asin(sqrt(a)) \n",
    "    # Radius of earth in kilometers. Use 6378 for miles\n",
    "    r = 6378\n",
    "    # round with 4 decimal\n",
    "    dis = round(c*r, 4)\n",
    "\n",
    "    return dis"
   ]
  },
  {
   "cell_type": "code",
   "execution_count": 1283,
   "metadata": {},
   "outputs": [],
   "source": [
    "# function to calculate the distance for each single row for `rs_data`\n",
    "def single_row_dis(df_lat, df_lng, df_id, rs_lat_index, rs_lng_index):\n",
    "    # init distance_dict\n",
    "    distance_dict = dict()\n",
    "    # loop df\n",
    "    for i in range(len(df_lat)):\n",
    "        # calculate distance\n",
    "        result = cal_distance(df_lat[i], df_lng[i], rs_data.lat[rs_lat_index], rs_data.lng[rs_lng_index])\n",
    "        # add to dictionary\n",
    "        distance_dict[df_id[i]] = result\n",
    "        \n",
    "    return distance_dict"
   ]
  },
  {
   "cell_type": "code",
   "execution_count": 1284,
   "metadata": {},
   "outputs": [
    {
     "name": "stdout",
     "output_type": "stream",
     "text": [
      "Wall time: 12.1 s\n"
     ]
    }
   ],
   "source": [
    "%%time\n",
    "# looping rs_data\n",
    "for i in range(len(rs_data.lat)):\n",
    "    results = single_row_dis(sc_data.lat, sc_data.lng, sc_data.sc_id, i, i)\n",
    "    # find the minimum result in the dict\n",
    "    min_result = min(results.values())\n",
    "    # find the sc_id holoding the minimum result\n",
    "    min_id = list(results.keys())[list(results.values()).index(min_result)]\n",
    "    \n",
    "    # replace the original value with sc_id for column `Shopping_center_id`\n",
    "    rs_data.Shopping_center_id[i] = min_id\n",
    "    # replace the original value with sc_id for column `Distance_to_sc`\n",
    "    rs_data.Distance_to_sc[i] = min_result"
   ]
  },
  {
   "cell_type": "markdown",
   "metadata": {},
   "source": [
    "## 2.1.B Find 'The closest Train station to the property'\n",
    "1. Use all latitude and longitude values in `stations` and a single row value in `rs_data` for calculation.\n",
    "2. Store the calculation result in the `distance_dict`.\n",
    "3. Find the <b>minimum value</b> in the `distance_dict`.\n",
    "4. Find the key corresponding to the <b>minimum value</b>.\n",
    "5. Repalce the key(as the `stop_id`) into the corresponding `rs_data` row.\n",
    "6. Repalce the <b>minimum value</b>(as the `Distance_to_train_station`) into the corresponding `rs_data` row."
   ]
  },
  {
   "cell_type": "markdown",
   "metadata": {},
   "source": [
    "### Issues handling\n",
    "During the calculation, i found out that `latitude` & `longitude` are string type in the station data. So, before any calculation i need to convert the data type to float."
   ]
  },
  {
   "cell_type": "code",
   "execution_count": 1285,
   "metadata": {},
   "outputs": [],
   "source": [
    "# convert the columns to float type \n",
    "stations['stop_lat'] = stations['stop_lat'].astype(float)\n",
    "stations['stop_lon'] = stations['stop_lon'].astype(float)"
   ]
  },
  {
   "cell_type": "code",
   "execution_count": 1286,
   "metadata": {},
   "outputs": [
    {
     "name": "stdout",
     "output_type": "stream",
     "text": [
      "Wall time: 24 s\n"
     ]
    }
   ],
   "source": [
    "%%time\n",
    "# looping rs_data\n",
    "for i, rs_rows in rs_data.iterrows():\n",
    "    results = single_row_dis(stations.stop_lat, stations.stop_lon, stations.stop_id, i, i)\n",
    "    # find the minimum result in the dict\n",
    "    min_result = min(results.values())\n",
    "    # find the sc_id holoding the minimum result\n",
    "    min_id = list(results.keys())[list(results.values()).index(min_result)]\n",
    "    \n",
    "    # replace the original value with stop_id for column `Train_station_id`\n",
    "    rs_data.Train_station_id[i] = min_id\n",
    "    # replace the original value with stop_id for column `Distance_to_train_station`\n",
    "    rs_data.Distance_to_train_station[i] = min_result"
   ]
  },
  {
   "cell_type": "markdown",
   "metadata": {},
   "source": [
    "## 2.1.C Find 'The closest Hospital to the property'\n",
    "##### This part uses the same processing logic as 2.1.A, B."
   ]
  },
  {
   "cell_type": "code",
   "execution_count": 1287,
   "metadata": {},
   "outputs": [
    {
     "name": "stdout",
     "output_type": "stream",
     "text": [
      "Wall time: 22.2 s\n"
     ]
    }
   ],
   "source": [
    "%%time\n",
    "# looping rs_data\n",
    "for i in range(len(rs_data.lat)):\n",
    "    results = single_row_dis(hospitals.lat, hospitals.lng, hospitals.id, i, i)\n",
    "    # find the minimum result in the dict\n",
    "    min_result = min(results.values())\n",
    "    # find the sc_id holoding the minimum result\n",
    "    min_id = list(results.keys())[list(results.values()).index(min_result)]\n",
    "    \n",
    "    # replace the original value with Hospital for column `Hospital_id`\n",
    "    rs_data.Hospital_id[i] = min_id\n",
    "    # replace the original value with Hospital for column `Distance_to_hospital`\n",
    "    rs_data.Distance_to_hospital[i] = min_result"
   ]
  },
  {
   "cell_type": "markdown",
   "metadata": {},
   "source": [
    "## 2.1.D Find 'The closest Supermarket to the property'\n",
    "##### This part uses the same processing logic as 2.1.A, B."
   ]
  },
  {
   "cell_type": "code",
   "execution_count": 1290,
   "metadata": {},
   "outputs": [
    {
     "name": "stdout",
     "output_type": "stream",
     "text": [
      "Wall time: 25.9 s\n"
     ]
    }
   ],
   "source": [
    "%%time\n",
    "# looping rs_data\n",
    "for i in range(len(rs_data.lat)):\n",
    "    results = single_row_dis(sm_data.lat, sm_data.lng, sm_data.id, i, i)\n",
    "    # find the minimum result in the dict\n",
    "    min_result = min(results.values())\n",
    "    # find the sc_id holoding the minimum result\n",
    "    min_id = list(results.keys())[list(results.values()).index(min_result)]\n",
    "    \n",
    "    # replace the original value with Supermarket id for column `Supermarket_id`\n",
    "    rs_data.Supermarket_id[i] = min_id\n",
    "    # replace the original value with Supermarket id for column `Distance_to_supermaket`\n",
    "    rs_data.Distance_to_supermaket[i] = min_result"
   ]
  },
  {
   "cell_type": "markdown",
   "metadata": {},
   "source": [
    "<b>So far, we have completed all the simple calculations. Next we will start the complex calculation part.</b>"
   ]
  },
  {
   "cell_type": "markdown",
   "metadata": {},
   "source": [
    "## 2.2 Complex calculation"
   ]
  },
  {
   "cell_type": "markdown",
   "metadata": {},
   "source": [
    "## 2.2.A Find 'The suburb to the property'\n",
    "1. We use the latitude and longitude in the `rs_data` to calculate the geographic location of the property `Point`.\n",
    "2. Then we draw the `Polygon` of all the locations in the shape file, from which we can get the border of the `suburb` district.\n",
    "3. We check whether the `Point` of the property is in the corresponding `suburb` district. \n",
    "4. If True, we will replace the `suburb name` from `recs` to corresponding `rs_data` row."
   ]
  },
  {
   "cell_type": "code",
   "execution_count": 1294,
   "metadata": {},
   "outputs": [],
   "source": [
    "from shapely.geometry import Point\n",
    "from shapely.geometry import Polygon"
   ]
  },
  {
   "cell_type": "code",
   "execution_count": 1295,
   "metadata": {},
   "outputs": [
    {
     "name": "stdout",
     "output_type": "stream",
     "text": [
      "Wall time: 3min 39s\n"
     ]
    }
   ],
   "source": [
    "%%time\n",
    "# loop rs_data\n",
    "for i,rs_rows in rs_data.iterrows():\n",
    "    # extract lat & long\n",
    "    lng = rs_data['lng'][i]\n",
    "    lat = rs_data['lat'][i]\n",
    "    # get point data\n",
    "    loc = Point(lng,lat)\n",
    "    for j in range(len(shapes)):\n",
    "        plg = Polygon(shapes[j].points)\n",
    "        if plg.contains(loc):\n",
    "            rs_data.suburb[i] = recs[j][6].lower().title()"
   ]
  },
  {
   "cell_type": "markdown",
   "metadata": {},
   "source": [
    "## 2.2.B Set 'Transfer_flag' and 'travel_min_to_CBD'\n",
    "This part will be the most complicated. First, our public transportation data has 7 independent source files. We need to read and analyze the relationship between each data, find the corresponding `Primary Key` and associate the data.\n",
    "<br><br>\n",
    "So I decided to use these data to build a `train system` data frame. \n",
    "This data frame will contain:\n",
    "- `stop_id` used to associate with `rs_data`\n",
    "- `trip_id` used to associate with `trips` data\n",
    "- `trip_id` used to associate with `stop_times` data\n",
    "- `route_id` used to associate with `routes` data\n",
    "- `service_id` used to associate with `calendar` data"
   ]
  },
  {
   "cell_type": "markdown",
   "metadata": {},
   "source": [
    "### Section for Train system; Read train system source data "
   ]
  },
  {
   "cell_type": "code",
   "execution_count": 1558,
   "metadata": {},
   "outputs": [],
   "source": [
    "agency = pd.read_csv('C:/Users/SENMS/Desktop/5196/31268102/GTFS - Melbourne Train Information/agency.txt', header=None)\n",
    "agency = rest_index(agency)\n",
    "\n",
    "calendar = pd.read_csv('C:/Users/SENMS/Desktop/5196/31268102/GTFS - Melbourne Train Information/calendar.txt', header=None)\n",
    "calendar = rest_index(calendar)\n",
    "\n",
    "calendar_date = pd.read_csv('C:/Users/SENMS/Desktop/5196/31268102/GTFS - Melbourne Train Information/calendar_dates.txt', header=None)\n",
    "calendar_date = rest_index(calendar_date)\n",
    "\n",
    "routes = pd.read_csv('C:/Users/SENMS/Desktop/5196/31268102/GTFS - Melbourne Train Information/routes.txt', header=None)\n",
    "routes = rest_index(routes)\n",
    "\n",
    "shapes_data = pd.read_csv('C:/Users/SENMS/Desktop/5196/31268102/GTFS - Melbourne Train Information/shapes.txt', header=None)\n",
    "shapes_data = rest_index(shapes_data)\n",
    "\n",
    "stop_times = pd.read_csv('C:/Users/SENMS/Desktop/5196/31268102/GTFS - Melbourne Train Information/stop_times.txt', header=None)\n",
    "stop_times = rest_index(stop_times)\n",
    "\n",
    "stops = pd.read_csv('C:/Users/SENMS/Desktop/5196/31268102/GTFS - Melbourne Train Information/stops.txt', header=None)\n",
    "stops = rest_index(stops)\n",
    "\n",
    "trips = pd.read_csv('C:/Users/SENMS/Desktop/5196/31268102/GTFS - Melbourne Train Information/trips.txt', header=None)\n",
    "trips = rest_index(trips)"
   ]
  },
  {
   "cell_type": "markdown",
   "metadata": {},
   "source": [
    "### 2.2.B Use `calender` to finds serveice which runs all 5 days.\n",
    "First, we have to find a `service_id` that runs all on weekdays, so that we can calculate the average time on weekdays. The `calendar` data records the running time of all services, we can find this `service_id` here.\n",
    "\n",
    "### Issues handling\n",
    "In the `calendar` data, the parameters `0` and `1` representing the running status of the service are all string types. Before the sum calculation, we need to convert the type of these data to int."
   ]
  },
  {
   "cell_type": "code",
   "execution_count": 1397,
   "metadata": {},
   "outputs": [],
   "source": [
    "# filter the weekdays\n",
    "calendar.filter(['service_id','monday','tuesday', 'wednesday', 'thursday', 'friday'], axis=1)\n",
    "# data type convertion\n",
    "calendar['monday'] = calendar['monday'].astype(int)\n",
    "calendar['tuesday'] = calendar['tuesday'].astype(int)\n",
    "calendar['wednesday'] = calendar['wednesday'].astype(int)\n",
    "calendar['thursday'] = calendar['thursday'].astype(int)\n",
    "calendar['friday'] = calendar['friday'].astype(int)\n",
    "# count the services per week\n",
    "calendar['counts'] = calendar.sum(axis=1)\n",
    "# get service id\n",
    "svc_id = calendar[(calendar.counts == 5)].service_id.values[0]"
   ]
  },
  {
   "cell_type": "markdown",
   "metadata": {},
   "source": [
    "Now, we have the `svc_id(service_id)` which represent the service that run on all weekdays."
   ]
  },
  {
   "cell_type": "markdown",
   "metadata": {},
   "source": [
    "### 2.2.B Build `train_sys` data frame\n",
    "- The new data frame `train_sys` is based on the `trips` data, but we only keep the necessary columns and manually add non-existent columns.\n",
    "\n",
    "- The new column `route_long_name` will be used to store the route name in the `routes` data, and we will refer to route name to check whether the trip goes directly to the CBD."
   ]
  },
  {
   "cell_type": "code",
   "execution_count": 1514,
   "metadata": {},
   "outputs": [],
   "source": [
    "# extract the tartget column to make new df\n",
    "train_sys = trips.filter(['trip_id','route_id','service_id','trip_headsign'], axis=1)\n",
    "# add new column，default as empty\n",
    "train_sys['route_long_name'] = \"empty\""
   ]
  },
  {
   "cell_type": "markdown",
   "metadata": {},
   "source": [
    "#### Consider the `svc_id`, only keeps the records which run on all weekdays"
   ]
  },
  {
   "cell_type": "code",
   "execution_count": 1515,
   "metadata": {},
   "outputs": [],
   "source": [
    "train_sys = train_sys[(train_sys.service_id == svc_id)]"
   ]
  },
  {
   "cell_type": "markdown",
   "metadata": {},
   "source": [
    "#### Add route name to `train_sys`\n",
    "### Issues handling\n",
    "There are some case sensitive problems with `route_id` in `route_data`. To fix this problems i use `.lower()` function to handle the spelling."
   ]
  },
  {
   "cell_type": "code",
   "execution_count": 1400,
   "metadata": {},
   "outputs": [
    {
     "name": "stdout",
     "output_type": "stream",
     "text": [
      "Wall time: 2.23 s\n"
     ]
    }
   ],
   "source": [
    "%%time\n",
    "# loop route_id\n",
    "for i, tr_rows in train_sys.iterrows():\n",
    "    # get matched result, return the record associated with the route_id\n",
    "    # replace the route name\n",
    "    train_sys.route_long_name[i] = routes[(routes['route_id'].str.lower() == train_sys.route_id[i].lower())].values[0][3]"
   ]
  },
  {
   "cell_type": "markdown",
   "metadata": {},
   "source": [
    "### 2.2.B Get records with `departure_time` between 7-9 am and only departure from CBD\n",
    "In our request, we only need the `trips` for departure from 7-9 AM, so we have to filter out the data that does not meet the requirements.\n",
    "\n",
    "### Issues handling\n",
    "- In the process, we found some time outliers. These abnormal times have the wrong format, such as 26:38:00.\n",
    "- In fact, we cannot accurately repair these data. But I think the system time is recorded linearly forward, so any hour value exceeding 24 should be regarded as the morning of the next day. So we first take out all the values with hours greater than 23.\n",
    "- Then adjust the time according to the conditions, for example, 26:38 = 02:38, 24:39 = 00:39."
   ]
  },
  {
   "cell_type": "code",
   "execution_count": 1381,
   "metadata": {},
   "outputs": [],
   "source": [
    "# function for adjust time\n",
    "def adjust_time(df_col):\n",
    "    for i,st_rows in stop_times.iterrows():\n",
    "        # split date\n",
    "        hour = re.findall(r'(\\d{2}):(?:\\d{2}):(?:\\d{2})',df_col[i])[0]\n",
    "        minute = re.findall(r'(?:\\d{2}):(\\d{2}):(?:\\d{2})',df_col[i])[0]\n",
    "        second = re.findall(r'(?:\\d{2}):(?:\\d{2}):(\\d{2})',df_col[i])[0]\n",
    "        # check if date has anmalies\n",
    "        if df_col[i] >= '24:00:00':\n",
    "            if hour == '24':\n",
    "                # rest to 00:\n",
    "                hour = '00'\n",
    "                new_data = hour +':'+ minute +':'+ second\n",
    "                df_col[i] = new_data\n",
    "            elif hour == '25':\n",
    "                # reset = 01:\n",
    "                hour = '01'\n",
    "                new_data = hour +':'+ minute +':'+ second\n",
    "                df_col[i] = new_data\n",
    "            elif hour == '26':\n",
    "                # resset to 02\n",
    "                hour = '02'\n",
    "                new_data = hour +':'+ minute +':'+ second\n",
    "                df_col[i] = new_data"
   ]
  },
  {
   "cell_type": "code",
   "execution_count": 1382,
   "metadata": {},
   "outputs": [],
   "source": [
    "adjust_time(stop_times.departure_time)\n",
    "adjust_time(stop_times.arrival_time)"
   ]
  },
  {
   "cell_type": "markdown",
   "metadata": {},
   "source": [
    "####  Get the trip records that only departure between 7-9 am\n",
    "In this step, we will only keep the trip records that depart between 7 am and 9 am, then save then to new data frame `seven_to_nine`."
   ]
  },
  {
   "cell_type": "code",
   "execution_count": 1516,
   "metadata": {},
   "outputs": [],
   "source": [
    "seven_to_nine = stop_times[(stop_times.departure_time >= \"07:00:00\") & (stop_times.departure_time <= \"09:00:00\")]"
   ]
  },
  {
   "cell_type": "markdown",
   "metadata": {},
   "source": [
    "#### Add `stop_id` to `train_sys`\n",
    "We get `stop_id` by merge`train_sys` with `seven_to_nine` through `trip_id (as the Primary Key)`."
   ]
  },
  {
   "cell_type": "code",
   "execution_count": 1517,
   "metadata": {},
   "outputs": [],
   "source": [
    "train_sys.trip_id = train_sys.trip_id.str.lower()\n",
    "seven_to_nine.trip_id = seven_to_nine.trip_id.str.lower()\n",
    "train_sys = train_sys.merge(seven_to_nine, on='trip_id')"
   ]
  },
  {
   "cell_type": "markdown",
   "metadata": {},
   "source": [
    "#### Get the trips that only goes to CBD(one way only)\n",
    "`SNTdirect_CBD` already includes all trips that can direct to CBD wiht in 7-9 am, But we don't need those trips returned from the CBD, so we use `trip_headsign` to filter the data."
   ]
  },
  {
   "cell_type": "code",
   "execution_count": 1528,
   "metadata": {},
   "outputs": [],
   "source": [
    "SNTdirect_CBD = train_sys"
   ]
  },
  {
   "cell_type": "code",
   "execution_count": 1520,
   "metadata": {},
   "outputs": [],
   "source": [
    "SNTdirect_CBD = train_sys[(train_sys['trip_headsign'].str.contains('City')) | (train_sys['trip_headsign'].str.contains('Flinders'))]"
   ]
  },
  {
   "cell_type": "markdown",
   "metadata": {},
   "source": [
    "### 2.2.C Set `Transfer_flag` by using `stop_id` in `SNTdirect_CBD`.\n",
    "Up to now, we have the `SNTdirect_CBD` df which contains trip records and stop id. As all the trips are directly to CBD (weekdays 7-9am), Therefore if the stop id in the `rs_data` is included in `SNTdirect_CBD` then the Transfer flag set to `0`, otherwise, we set it to `1`."
   ]
  },
  {
   "cell_type": "code",
   "execution_count": 1407,
   "metadata": {},
   "outputs": [
    {
     "name": "stdout",
     "output_type": "stream",
     "text": [
      "Wall time: 6.73 s\n"
     ]
    }
   ],
   "source": [
    "%%time\n",
    "# loop rs_data\n",
    "for i, rs_rows in rs_data.iterrows():\n",
    "    # get matched result, return the record associated with the stop id\n",
    "    for j in SNTdirect_CBD['stop_id'].unique():\n",
    "        if int(rs_data.Train_station_id[i]) == int(j):\n",
    "            # reset the transfer flag to 0 for direct trip to CBD\n",
    "            rs_data.Transfer_flag[i] = 0"
   ]
  },
  {
   "cell_type": "code",
   "execution_count": 1408,
   "metadata": {},
   "outputs": [
    {
     "data": {
      "text/plain": [
       "array([0], dtype=int64)"
      ]
     },
     "execution_count": 1408,
     "metadata": {},
     "output_type": "execute_result"
    }
   ],
   "source": [
    "rs_data.Transfer_flag.unique()"
   ]
  },
  {
   "cell_type": "markdown",
   "metadata": {},
   "source": [
    "### 2.2.D Find `travel_min_to_CBD`\n",
    "Calculating the duration is a complicated process, we have the following steps：\n",
    "1. A single `stop_id` in `direct_CBD` corresponds to multiple `trip_id` in `SNtrain_sys`, find these `trip_id.\n",
    "2. Use these trip_id to calculate Duration in `SNTdirect_CBD`.\n",
    "3. Use the `departure_time` of the `trip_id` to subtract the `arrival_time` of the record which has `stop_id` == 19854 under the `trip_id`.\n",
    "4. Use Dictionary to sotre the value:\n",
    "    - use `stop_id` as key\n",
    "    - use list to sotre `trip_id` and `duration` which belong to this `stop_id`\n",
    "5. Iterate over the entire dictionary:\n",
    "    1. Calculate the length of the list under a single key (count total trips).\n",
    "    2. Sum of all `duration` under a single key.\n",
    "    3. Use `duration sum` / `total trips` to get the `average time`.\n",
    "    4. Backfill the `average time` to the `rs_data` row corresponding to `stop_id`."
   ]
  },
  {
   "cell_type": "code",
   "execution_count": 1539,
   "metadata": {},
   "outputs": [],
   "source": [
    "# function for calculate single trip duration\n",
    "def calculate_time(T_id, S_id):\n",
    "    left = SNTdirect_CBD[(SNTdirect_CBD['trip_id'] == T_id) & (SNTdirect_CBD['stop_id'] == S_id)]['departure_time'].values[0]\n",
    "    right = SNTdirect_CBD[(SNTdirect_CBD['trip_id'] == T_id) & (SNTdirect_CBD['stop_id'] == 19854)]['arrival_time'].values[0]\n",
    "    fmt = '%H:%M:%S'\n",
    "    left = datetime.strptime(left, fmt)\n",
    "    right = datetime.strptime(right, fmt)\n",
    "    minutes = float(((left - right).total_seconds())/ 60)\n",
    "    \n",
    "    return abs(minutes)"
   ]
  },
  {
   "cell_type": "markdown",
   "metadata": {},
   "source": [
    "#### Get the unique `stop_id`s that only goes to CBD(Transfer_flag = 0)\n",
    "We don't need to deal with records that don't directly reach the CBD, so here we streamline the data set and use `Transfer_flag` to filter unnecessary records and get `direct_CBD`."
   ]
  },
  {
   "cell_type": "code",
   "execution_count": 1409,
   "metadata": {},
   "outputs": [],
   "source": [
    "# only use the necessary records\n",
    "direct_CBD = rs_data[rs_data['Transfer_flag'] == 0]\n",
    "# extract unique stop ids\n",
    "direct_CBD_ids = rs_data['Train_station_id'].unique()"
   ]
  },
  {
   "cell_type": "markdown",
   "metadata": {},
   "source": [
    "### Issues handling\n",
    "In the process of processing iteration, I found that although the `stop_id` in the `SNTdirect_CBD` data is a string type, some values are still not recognized, so here we need to unify the two as int."
   ]
  },
  {
   "cell_type": "code",
   "execution_count": 1543,
   "metadata": {},
   "outputs": [],
   "source": [
    "SNTdirect_CBD['stop_id'] = SNTdirect_CBD['stop_id'].astype(int)"
   ]
  },
  {
   "cell_type": "code",
   "execution_count": 1546,
   "metadata": {},
   "outputs": [],
   "source": [
    "# init trip duration dict\n",
    "# with stop_id as key, with values: trip_id,duration\n",
    "td_dict = dict()"
   ]
  },
  {
   "cell_type": "code",
   "execution_count": 1547,
   "metadata": {
    "scrolled": true
   },
   "outputs": [],
   "source": [
    "# loop rs_data\n",
    "for i in range(len(direct_CBD_ids)):\n",
    "    # get stop id \n",
    "    TS_id = direct_CBD_ids[i]\n",
    "    # return list of trip_id belongs to TS_id from train sys data\n",
    "    get_tids = SNTdirect_CBD[(SNTdirect_CBD.stop_id == TS_id)].trip_id\n",
    "    # loop trip_ids\n",
    "    for j in range(len(get_tids)):\n",
    "        tid = get_tids.values[j]\n",
    "        # check length to ensure record contains neccesary stop ids\n",
    "        if (SNTdirect_CBD[(SNTdirect_CBD['trip_id'] == tid)]['stop_id'] == 19854).any():\n",
    "            # calculate duration\n",
    "            duration = calculate_time(tid, TS_id)\n",
    "            # add to dict\n",
    "            if TS_id in td_dict.keys():\n",
    "                td_dict[TS_id].append([tid, duration])\n",
    "            else:\n",
    "                td_dict[TS_id] = [[tid,duration]]"
   ]
  },
  {
   "cell_type": "code",
   "execution_count": 1550,
   "metadata": {},
   "outputs": [],
   "source": [
    "# calculate average time\n",
    "# init duration dict\n",
    "du_dict = dict()\n",
    "# loop dict\n",
    "for k,v in td_dict.items():\n",
    "    time = 0\n",
    "    count = len(td_dict[k])\n",
    "    # loop trip ids \n",
    "    for ids in v:\n",
    "        time = time + ids[1]\n",
    "    # calculate the average duration\n",
    "    duration = time / count\n",
    "    # add to duration dict\n",
    "    du_dict[k] = duration"
   ]
  },
  {
   "cell_type": "code",
   "execution_count": 1551,
   "metadata": {},
   "outputs": [],
   "source": [
    "# add back to rs_data\n",
    "# loop rs_data\n",
    "for i, rs_rows in rs_data.iterrows():\n",
    "    # loop dict\n",
    "    for k,v in du_dict.items():\n",
    "        if rs_data.Train_station_id[i] == k:\n",
    "            rs_data.travel_min_to_CBD[i] = v"
   ]
  },
  {
   "cell_type": "markdown",
   "metadata": {},
   "source": [
    "## 3.1 Write data to csv file"
   ]
  },
  {
   "cell_type": "code",
   "execution_count": 1557,
   "metadata": {},
   "outputs": [],
   "source": [
    "rs_data.to_csv(r'31268102_A3_solution.csv')"
   ]
  },
  {
   "cell_type": "markdown",
   "metadata": {},
   "source": [
    "# Task 2 Reshaping\n",
    "## Workflow\n",
    "In this task, our predictors from `rs_data` are `price`, `Distance_to_sc`,`Distance_to_hospital` and `travel_min_to_CBD`. As these data all has different measure such as dollar, minute, KM, so we cannot just use them directly. Therefore,we need to use the following stragy to do this task. \n",
    "1. Data transfromation \n",
    "2. Data Normalisation(Z-Score Normalisation)"
   ]
  },
  {
   "cell_type": "markdown",
   "metadata": {},
   "source": [
    "## 1.1 Data transfromation\n",
    "### Why we need data transformation first?\n",
    "In our cases, The source data dose not show a normal distribution. If we need to make a linear model then dependent variable needs to be normally distributed. also because of the Z-Score normalisation require the input data fits normal distribution. Therefore we do the transformation first and try on differernt tranformation method to make the data has or close to normal distribution."
   ]
  },
  {
   "cell_type": "code",
   "execution_count": 1214,
   "metadata": {},
   "outputs": [
    {
     "data": {
      "image/png": "[encoded data removed]",
      "text/plain": [
       "<Figure size 432x288 with 1 Axes>"
      ]
     },
     "metadata": {
      "needs_background": "light"
     },
     "output_type": "display_data"
    }
   ],
   "source": [
    "# Before transfromation\n",
    "plt_price = plt.hist(rs_data['price'], bins=100, alpha=0.5, label=\"data1\")"
   ]
  },
  {
   "cell_type": "code",
   "execution_count": 1219,
   "metadata": {},
   "outputs": [
    {
     "data": {
      "image/png": "[encoded data removed]",
      "text/plain": [
       "<Figure size 432x288 with 1 Axes>"
      ]
     },
     "metadata": {
      "needs_background": "light"
     },
     "output_type": "display_data"
    }
   ],
   "source": [
    "# Before transfromation\n",
    "plt_price = plt.hist(rs_data['Distance_to_hospital'], bins=100, alpha=0.5, label=\"data1\")"
   ]
  },
  {
   "cell_type": "markdown",
   "metadata": {},
   "source": [
    "#### From the above plots, we can see that both the plots shows the right skewed, Therefore, `log transfromation` will be suitable for these caese."
   ]
  },
  {
   "cell_type": "code",
   "execution_count": 1571,
   "metadata": {},
   "outputs": [
    {
     "data": {
      "image/png": "[encoded data removed]",
      "text/plain": [
       "<Figure size 432x288 with 1 Axes>"
      ]
     },
     "metadata": {
      "needs_background": "light"
     },
     "output_type": "display_data"
    }
   ],
   "source": [
    "plt_time = plt.hist(rs_data['Distance_to_sc'], bins=100, alpha=0.5, label=\"data1\")"
   ]
  },
  {
   "cell_type": "code",
   "execution_count": 1572,
   "metadata": {},
   "outputs": [
    {
     "data": {
      "image/png": "[encoded data removed]",
      "text/plain": [
       "<Figure size 432x288 with 1 Axes>"
      ]
     },
     "metadata": {
      "needs_background": "light"
     },
     "output_type": "display_data"
    }
   ],
   "source": [
    "plt_time = plt.hist(rs_data['travel_min_to_CBD'], bins=100, alpha=0.5, label=\"data1\")"
   ]
  },
  {
   "cell_type": "markdown",
   "metadata": {},
   "source": [
    "<b>From the above plots, we can see that both the plots shows the right skewed, but not has the strong skewed like the first two,\n",
    "Therefore, `square root transfromation` will be suitable for these caese, because these data does not requires the stronger transformation.</b>"
   ]
  },
  {
   "cell_type": "code",
   "execution_count": 1215,
   "metadata": {},
   "outputs": [],
   "source": [
    "# transfromation functions\n",
    "import math\n",
    "\n",
    "def df_sqrt(df_col):\n",
    "    result_list = list()\n",
    "    for i,row in rs_data.iterrows():\n",
    "        result = math.sqrt(df_col[i])\n",
    "        result_list.append(result)\n",
    "    return result_list\n",
    "\n",
    "def df_pow(df_col):\n",
    "    result_list = list()\n",
    "    for i,row in rs_data.iterrows():\n",
    "        result = math.pow(df_col[i],2)\n",
    "        result_list.append(result)\n",
    "    return result_list\n",
    "\n",
    "def df_log(df_col):\n",
    "    result_list = list()\n",
    "    for i,row in rs_data.iterrows():\n",
    "        result = math.log(df_col[i])\n",
    "        result_list.append(result)\n",
    "    return result_list"
   ]
  },
  {
   "cell_type": "markdown",
   "metadata": {},
   "source": [
    "#### From the above plot result, we conclude:\n",
    " - Log is good for `price` & `Distance_to_hospital`\n",
    " - sqrt is good for `Distance_to_sc` & `travel_min_to_CBD`"
   ]
  },
  {
   "cell_type": "code",
   "execution_count": 1216,
   "metadata": {},
   "outputs": [],
   "source": [
    "# Transfrom data\n",
    "# Log is good\n",
    "price_li = df_log(rs_data['price'])\n",
    "dis_hs = df_log(rs_data['Distance_to_hospital'])\n",
    "\n",
    "# sqrt is good\n",
    "dis_sc = df_sqrt(rs_data['Distance_to_sc'])\n",
    "time_cbd = df_sqrt(rs_data['travel_min_to_CBD'])"
   ]
  },
  {
   "cell_type": "code",
   "execution_count": 1266,
   "metadata": {},
   "outputs": [
    {
     "data": {
      "image/png": "[encoded data removed]",
      "text/plain": [
       "<Figure size 432x288 with 1 Axes>"
      ]
     },
     "metadata": {
      "needs_background": "light"
     },
     "output_type": "display_data"
    }
   ],
   "source": [
    "# after transmation\n",
    "plt_price_li = plt.hist(price_li, bins=100, alpha=0.5, label=\"data1\")"
   ]
  },
  {
   "cell_type": "code",
   "execution_count": 1218,
   "metadata": {},
   "outputs": [
    {
     "data": {
      "image/png": "[encoded data removed]",
      "text/plain": [
       "<Figure size 432x288 with 1 Axes>"
      ]
     },
     "metadata": {
      "needs_background": "light"
     },
     "output_type": "display_data"
    }
   ],
   "source": [
    "# after transmation\n",
    "plt_dic_hs = plt.hist(dis_hs, bins=100, alpha=0.5, label=\"data1\")"
   ]
  },
  {
   "cell_type": "markdown",
   "metadata": {},
   "source": [
    "<b>Now all the data has been reshaped and conforms to or very close to the normal distribution. </b>"
   ]
  },
  {
   "cell_type": "markdown",
   "metadata": {},
   "source": [
    "## 2.1 Data Standardization(Z-Score Standardization)\n",
    "### Why use Standardization ?\n",
    "- When the measurement standards of all source data are different, if we directly input the source data to the machine learning algorithm, then different levels of data will affect the accuracy of the prediction.\n",
    "- The machine will try to approximate the largest feature and ignore the smaller features, which will directly affect the accuracy of the model. For example, the distance is `30km` and the time is `1 hour`. Therefore, we need to use data standardization to unify different data under one order of magnitude so that different features have the same scale.\n",
    "\n",
    "### Why choose Z-Score Standardization rather than Max-Min Normalisation?\n",
    "- When distance measurement, covariance calculation and data do not conform to the normal distribution, we will choose to use Max-Min normalization, otherwise we will use Z-Score Standardization.\n",
    "\n",
    "- Since our data is a continuous variable, the data processed by Z-Score standardization will be more in line with or close to a normal distribution which is excatly what we looking for in this task."
   ]
  },
  {
   "cell_type": "code",
   "execution_count": 1221,
   "metadata": {},
   "outputs": [],
   "source": [
    "from sklearn import preprocessing"
   ]
  },
  {
   "cell_type": "code",
   "execution_count": 1220,
   "metadata": {},
   "outputs": [],
   "source": [
    "# create test df, only select the necessary columns\n",
    "test_df = rs_data.filter(items=['price', 'Distance_to_sc', 'travel_min_to_CBD', 'Distance_to_hospital'])\n",
    "\n",
    "# use the transformed result\n",
    "test_df['price'] = price_li\n",
    "test_df['Distance_to_sc'] = dis_sc\n",
    "test_df['travel_min_to_CBD'] = time_cbd\n",
    "test_df['Distance_to_hospital'] = dis_hs"
   ]
  },
  {
   "cell_type": "code",
   "execution_count": 1222,
   "metadata": {},
   "outputs": [],
   "source": [
    "# fit to the columns\n",
    "std_scale = preprocessing.StandardScaler().fit(test_df[['price', 'Distance_to_sc', 'travel_min_to_CBD', 'Distance_to_hospital']])\n",
    "# re-scale the values\n",
    "test_std = std_scale.transform(test_df[['price', 'Distance_to_sc', 'travel_min_to_CBD', 'Distance_to_hospital']]) # an array not a df"
   ]
  },
  {
   "cell_type": "markdown",
   "metadata": {},
   "source": [
    "Check mean and standard deviation "
   ]
  },
  {
   "cell_type": "code",
   "execution_count": 1224,
   "metadata": {},
   "outputs": [
    {
     "name": "stdout",
     "output_type": "stream",
     "text": [
      "Mean after standardisation:\n",
      "price = 0.00, Distance_to_sc = -0.00\n",
      "\n",
      "Standard deviation after standardisation:\n",
      "price = 1.00, Distance_to_sc = 1.00\n"
     ]
    }
   ],
   "source": [
    "print('Mean after standardisation:\\nprice = {:.2f}, Distance_to_sc = {:.2f}'\n",
    "      .format(test_std[:,0].mean(), test_std[:,1].mean()))\n",
    "print('\\nStandard deviation after standardisation:\\nprice = {:.2f}, Distance_to_sc = {:.2f}'\n",
    "      .format(test_std[:,0].std(), test_std[:,1].std()))"
   ]
  },
  {
   "cell_type": "markdown",
   "metadata": {},
   "source": [
    "### So far, the source data has been reshaped and standardized. we can use scatter plot to check some correlations between the data sets\n",
    "- Red color represent `price` & `travel_min_to_CBD`\n",
    "- Blue color represent `price` & `Distance_to_sc`\n",
    "- Green color represent `price` & `Distance_to_hospital`"
   ]
  },
  {
   "cell_type": "code",
   "execution_count": 1243,
   "metadata": {},
   "outputs": [
    {
     "data": {
      "text/plain": [
       "<matplotlib.legend.Legend at 0x1b65c5316c8>"
      ]
     },
     "execution_count": 1243,
     "metadata": {},
     "output_type": "execute_result"
    },
    {
     "data": {
      "image/png": "[encoded data removed]",
      "text/plain": [
       "<Figure size 432x288 with 1 Axes>"
      ]
     },
     "metadata": {
      "needs_background": "light"
     },
     "output_type": "display_data"
    }
   ],
   "source": [
    "plt.scatter(test_df['Distance_to_sc'], test_df['price'], color = 'blue', label='price and distance to sc',alpha=0.5)\n",
    "plt.scatter(test_df['travel_min_to_CBD'], test_df['price'], color = 'red',label='price and duration to CBD', alpha=0.5)\n",
    "plt.scatter(test_df['Distance_to_hospital'],test_df['price'],  color = 'green', label='price and distance to hospital', alpha=0.5)\n",
    "plt.ylabel('Price')\n",
    "plt.legend(loc='upper left')"
   ]
  },
  {
   "cell_type": "markdown",
   "metadata": {},
   "source": [
    "- From the above plot, we cannot really find out any correlation between `price` and 3 predictors. But this is not meet with the common sense and lieanr assumptions also such result can not using for build linear model. \n",
    "- For more clear look, we use `Pearson correlation coefficient` to have a look.\n",
    "- Obviously, we have more than 500 samples, so the p-value should be reliable.\n",
    "- We want to see how `price` change when `distance` changes, so for function inputs should be `pearsonr(distance, price)`"
   ]
  },
  {
   "cell_type": "code",
   "execution_count": 1158,
   "metadata": {},
   "outputs": [],
   "source": [
    "from scipy.stats import pearsonr"
   ]
  },
  {
   "cell_type": "code",
   "execution_count": 1264,
   "metadata": {},
   "outputs": [
    {
     "name": "stdout",
     "output_type": "stream",
     "text": [
      "Correlation between prince and time to CBD: 0.00000\n",
      "Correlation between prince and distance to sc: 0.00164\n",
      "Correlation between prince and distance to hospital: 0.00000\n"
     ]
    }
   ],
   "source": [
    "print(\"Correlation between prince and time to CBD: {:.5f}\".format(pearsonr(test_df['travel_min_to_CBD'], test_df['price'])[1]))\n",
    "print(\"Correlation between prince and distance to sc: {:.5f}\".format(pearsonr(test_df['Distance_to_sc'], test_df['price'])[1]))\n",
    "print(\"Correlation between prince and distance to hospital: {:.5f}\".format(pearsonr(test_df['Distance_to_hospital'], test_df['price'])[1]))"
   ]
  },
  {
   "cell_type": "markdown",
   "metadata": {},
   "source": [
    "As we can see, the p-values of these three correlations are all 0, and we cannot satisfy the linear assumption, so these source data cannot be used to build a linear model."
   ]
  }
 ],
 "metadata": {
  "kernelspec": {
   "display_name": "Python 3",
   "language": "python",
   "name": "python3"
  },
  "language_info": {
   "codemirror_mode": {
    "name": "ipython",
    "version": 3
   },
   "file_extension": ".py",
   "mimetype": "text/x-python",
   "name": "python",
   "nbconvert_exporter": "python",
   "pygments_lexer": "ipython3",
   "version": "3.7.7"
  }
 },
 "nbformat": 4,
 "nbformat_minor": 4
}
