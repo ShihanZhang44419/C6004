{
 "cells": [
  {
   "cell_type": "markdown",
   "metadata": {},
   "source": [
    "# 完备资料"
   ]
  },
  {
   "cell_type": "markdown",
   "metadata": {},
   "source": [
    "## Wk 1-4"
   ]
  },
  {
   "cell_type": "markdown",
   "metadata": {},
   "source": [
    "#### nothing really need to include right here but I/O"
   ]
  },
  {
   "cell_type": "code",
   "execution_count": null,
   "metadata": {},
   "outputs": [],
   "source": [
    "# read file\n",
    "# 'a' a+ for append\n",
    "# 'w' w+ for write\n",
    "# 'r' r+ for read\n",
    "with open(filename, 'r') as f:\n",
    "    for line in f:\n",
    "        print(line)\n",
    "# always close the file\n",
    "f.close()"
   ]
  },
  {
   "cell_type": "markdown",
   "metadata": {},
   "source": [
    "#### for loop with Dictionary"
   ]
  },
  {
   "cell_type": "code",
   "execution_count": 2,
   "metadata": {},
   "outputs": [
    {
     "name": "stdout",
     "output_type": "stream",
     "text": [
      "52\n",
      "E\n",
      "126\n",
      "A\n",
      "134\n",
      "B\n",
      "188\n",
      "C\n",
      "189\n",
      "D\n",
      "52\n",
      "126\n",
      "134\n",
      "188\n",
      "189\n"
     ]
    }
   ],
   "source": [
    "# init dictionary\n",
    "dictionary = {52:\"E\",126:\"A\",134:\"B\",188:\"C\",189:\"D\"}\n",
    "# loop with k,v\n",
    "for key, value in dictionary.items():\n",
    "\tprint(key)\n",
    "\tprint(value)\n",
    "\n",
    "# loop with key, print only key\n",
    "for i in dictionary.keys():\n",
    "    print(i)"
   ]
  },
  {
   "cell_type": "markdown",
   "metadata": {},
   "source": [
    "## Wk 5 Class & super Class"
   ]
  },
  {
   "cell_type": "code",
   "execution_count": 12,
   "metadata": {},
   "outputs": [
    {
     "name": "stdout",
     "output_type": "stream",
     "text": [
      "Bob\n"
     ]
    }
   ],
   "source": [
    "# build a Person class(as super class to the student)\n",
    "class Person:\n",
    "    # init attribute\n",
    "    def __init__(self, name, age):\n",
    "        self.name = name\n",
    "        self.age = age\n",
    "    \n",
    "    # fuction to modify the attribute\n",
    "    def grow_old(self):\n",
    "        self.age += 1\n",
    "\n",
    "# new class student but iterat the super class attribute\n",
    "class Student(Person):\n",
    "    # some new attibute but must contain the attribute from Person( name, age)\n",
    "    def __init__(self, name, age, id, campus):\n",
    "        # be alert! no need to init the 'name' and 'age' right here\n",
    "        self.id = id\n",
    "        self.subject = []\n",
    "        self.campus = campus\n",
    "    \n",
    "        # init person class\n",
    "        Person.__init__(self, name, age)\n",
    "    \n",
    "    def add_subject(self, className):\n",
    "        # add some class for him\n",
    "        self.subject.append(className)\n",
    "        return self.subject\n",
    "    \n",
    "# let's make it run\n",
    "test_student = Student('Bob', 28, 12345, \"London\")\n",
    "test_student.add_subject(\"Math\")\n",
    "\n",
    "print(test_student.name)"
   ]
  },
  {
   "cell_type": "markdown",
   "metadata": {},
   "source": [
    "## Wk6 ----- Stack, Queue, Heap"
   ]
  },
  {
   "cell_type": "markdown",
   "metadata": {},
   "source": [
    "### Stack -> LIFO (Last-InFirst-Out)   如： 弹夹\n",
    "Adding new items and removing existing items happened at the “top” of the stack \n",
    "##### 最后一个进入的 第一个出来， 12345 ‘5’ 最后一个进去 last in， 但是54321 ‘5’ 第一个出来 first out。"
   ]
  },
  {
   "cell_type": "code",
   "execution_count": 15,
   "metadata": {},
   "outputs": [
    {
     "name": "stdout",
     "output_type": "stream",
     "text": [
      "[1]\n",
      "[1, 2]\n",
      "[1, 2, 3]\n",
      "[1, 2, 3, 4]\n",
      "[1, 2, 3, 4, 5]\n",
      "[1, 2, 3, 4]\n",
      "[1, 2, 3]\n",
      "[1, 2]\n",
      "[1]\n",
      "[]\n"
     ]
    }
   ],
   "source": [
    "class Stack:\n",
    "    # build stack as a list\n",
    "    def __init__(self):\n",
    "        self.stack = []\n",
    "        self.count = 0\n",
    "    \n",
    "    # the length of the stack\n",
    "    def __len__(self):\n",
    "        return self.count\n",
    "    \n",
    "    def is_empty(self):\n",
    "        return self.count == 0\n",
    "    \n",
    "    # add elements to stack\n",
    "    def push(self, item):\n",
    "        # append to list\n",
    "        self.stack.append(item)\n",
    "        # increase the size (count)\n",
    "        self.count += 1\n",
    "        \n",
    "    # remove from the stack\n",
    "    def pop(self):\n",
    "        # check if only not empty so can run the following\n",
    "        assert not self.is_empty()\n",
    "        # decrease the size first\n",
    "        self.count -= 1\n",
    "        return self.stack.pop()\n",
    "    \n",
    "    # check the last element in the stack\n",
    "    def peek(self):\n",
    "        assert not self.is_empty()\n",
    "        # [-1] the last element in list\n",
    "        return self.stack[-1]\n",
    "    \n",
    "    # print out the entire stack\n",
    "    def print_stack(self):\n",
    "        print(self.stack)\n",
    "\n",
    "# lets run it ->> LIFO\n",
    "\n",
    "test = Stack()\n",
    "\n",
    "# push to stack\n",
    "for i in range(1,6):\n",
    "    test.push(i)\n",
    "    test.print_stack()\n",
    "\n",
    "# pop from stack\n",
    "for i in range(len(test.stack)):\n",
    "    test.pop()\n",
    "    test.print_stack()"
   ]
  },
  {
   "cell_type": "markdown",
   "metadata": {},
   "source": [
    "### Queue -> FIFO (First-In-First-Out)  如： 排队买票\n",
    "- Adding new items at the “rear” of the queue (i.e. enqueue)\n",
    "- Removing existing items at the “head” of the queue (i.e. dequeue)\n",
    "###### 第一个进入，第一个出来 12345 ，‘1‘第一个进入 first in。 12345， ’1‘ 第一个出来 first out"
   ]
  },
  {
   "cell_type": "code",
   "execution_count": 18,
   "metadata": {},
   "outputs": [
    {
     "name": "stdout",
     "output_type": "stream",
     "text": [
      "[1]\n",
      "[1, 2]\n",
      "[1, 2, 3]\n",
      "[1, 2, 3, 4]\n",
      "[1, 2, 3, 4, 5]\n",
      "[2, 3, 4, 5]\n",
      "[3, 4, 5]\n",
      "[4, 5]\n",
      "[5]\n",
      "[]\n"
     ]
    }
   ],
   "source": [
    "class Queue:\n",
    "    # build a Queue as a list\n",
    "    def __init__(self):\n",
    "        self.queue = []\n",
    "        self.count = 0\n",
    "    \n",
    "    def __len__(self):\n",
    "        return self.count\n",
    "    \n",
    "    def is_empty(self):\n",
    "        return self.count == 0\n",
    "    \n",
    "    # add elements to list\n",
    "    def append(self, item):\n",
    "        # append elements to list\n",
    "        self.queue.append(item)\n",
    "        # increse the size\n",
    "        self.count += 1\n",
    "        \n",
    "    # remove element from queue\n",
    "    def serve(self):\n",
    "        # only run the code if queue is not empty\n",
    "        assert not self.is_empty()\n",
    "        # decrease the size\n",
    "        self.count -= 1\n",
    "        # pop out the index 0 of list !! very important !!!\n",
    "        return self.queue.pop(0)\n",
    "    \n",
    "    def peek(self):\n",
    "        assert not self.is_empty()\n",
    "        return self,queue[-1]\n",
    "    \n",
    "    def print_queue(self):\n",
    "        print(self.queue)\n",
    "        \n",
    "    \n",
    "# lets run it ->> FIFO\n",
    "test = Queue()\n",
    "\n",
    "# add sequence number from 1 to 6\n",
    "for i in range(1,6):\n",
    "    test.append(i)\n",
    "    test.print_queue()\n",
    "\n",
    "for i in range(len(test.queue)):\n",
    "    test.serve()\n",
    "    test.print_queue()"
   ]
  },
  {
   "cell_type": "markdown",
   "metadata": {},
   "source": [
    "### Heap, Max-Heap & Mini-Heap \n",
    "Graphs are made of Nodes and Edges.\n",
    "– Nodes are locations (or states)\n",
    "– Edges connect Nodes together\n",
    "##### Max-Heap, 最  大  的值作为    根,，[5,3,1,9,7,8],  9 为 根， 小在左， 大在右\n",
    "##### Mini-Heap，最  小  的值作为  根,，[5,3,1,9,7,8] , 1 为 根， 小在左， 大在右\n",
    "##### Heap 在 LIst 中的排序表现为 ⚡ 顺序, 下图为 max-heap"
   ]
  },
  {
   "cell_type": "markdown",
   "metadata": {},
   "source": [
    "<img src=\"max-heap1.jpg\">"
   ]
  },
  {
   "cell_type": "code",
   "execution_count": 32,
   "metadata": {},
   "outputs": [
    {
     "name": "stdout",
     "output_type": "stream",
     "text": [
      "The step add to heap   [5]\n",
      "The step add to heap   [5, 3]\n",
      "The step add to heap   [5, 3, 1]\n",
      "The step add to heap   [9, 5, 1, 3]\n",
      "The step add to heap   [9, 7, 1, 3, 5]\n",
      "The step add to heap   [9, 7, 8, 3, 5, 1]\n",
      "The step reomve from heap   [9, 7, 8, 5, 3, 1]\n"
     ]
    }
   ],
   "source": [
    "# lets build a Max-Heap\n",
    "class Heap:\n",
    "    # build the heap as list\n",
    "    def __init__(self):\n",
    "        self.the_heap = []\n",
    "\n",
    "    def __len__(self):\n",
    "        return len(self.the_heap)\n",
    "\n",
    "    def __str__(self):\n",
    "        return str(self.the_heap)\n",
    "    \n",
    "    # add elements to heap\n",
    "    # 例：先加入 1 再加入 2\n",
    "    def add(self,element):\n",
    "        # append elements to heap\n",
    "        self.the_heap.append(element)\n",
    "        # call rise function\n",
    "        self.rise()\n",
    "    \n",
    "    \n",
    "    # A 开头为 case A\n",
    "    # B 开头为 case B\n",
    "    \n",
    "    \n",
    "    # rise function to lefting value\n",
    "    def rise(self):\n",
    "        # A 当加入第一个值 为 1 时\n",
    "        # A Location = 1 - 1 = 0\n",
    "        location = len(self.the_heap)-1\n",
    "        # A 此时 get_parent 返回 （0 - 1） // 2。 返回 0 \n",
    "        # A (heap[0] < heap [0]) 不成立， rise()不 执行\n",
    "        \n",
    "        # B 加入第二个值\n",
    "        # B Location = 2 - 1 = 1\n",
    "        # B 此时 get_parent 返回 1 - 1 //2 《= 0，返回 0\n",
    "        # B heap[0] < heap[1] 成立， rise() 执行\n",
    "        while (self.the_heap[self.get_parent(location)] < self.the_heap[location]):\n",
    "            # B par = get_parent 返回值 此时为 0\n",
    "            par = self.get_parent(location)\n",
    "            # B 位置互换\n",
    "            # B heap[0] -> 1, heap[1] -> 2  赋值为  heap[0] -> 2, heap[1] -> 1\n",
    "            self.the_heap[self.get_parent(location)], self.the_heap[location] = self.the_heap[location], self.the_heap[self.get_parent(location)]\n",
    "            # B Location 赋值为 par， par 此时为0 \n",
    "            location = par\n",
    "        \n",
    "    # sink function to move down value\n",
    "    def sink(self):\n",
    "        # 先将 Location 设置为 0\n",
    "        location = 0\n",
    "        # 设置 children 为 get_child(0) 的返回值 此时为 [0,1]\n",
    "        children = self.get_child(location)\n",
    "        # 当 children list 的长度 和 （children list 中 最大值为 heap 的index）的值 共同大于 heap[0] 时 %>%\n",
    "        #   此时chidlren list 长度为 2， heap[child] 为 heap[1] -> 为空 不成立 循环不运行\n",
    "        while len(children) > 1 and max([self.the_heap[child] for child in children]) > self.the_heap[location]:\n",
    "            # 当循环运行\n",
    "            # （childrent[0]的值） 作为 heap[]的index 返回的值 大于 （childrent[1]的值） 作为 heap[]的index 返回的值\n",
    "            if self.the_heap[children[0]] > self.the_heap[children[1]]:\n",
    "                # （childrent[0]的值） 作为 heap[]的index 返回的值 大于 heap[0]\n",
    "                if self.the_heap[children[0]] > self.the_heap[location]:\n",
    "                    # (childrent[0]的值） 作为 heap[]的index 返回的值 与 heap[0] 互换\n",
    "                    self.the_heap[children[0]], self.the_heap[location] = self.the_heap[location], self.the_heap[children[0]]\n",
    "                    location = children[0]\n",
    "            # （childrent[1]的值） 作为 heap[]的index 返回的值 大于 heap[0]\n",
    "            elif self.the_heap[children[1]] > self.the_heap[location]:\n",
    "                if self.the_heap[children[1]] > self.the_heap[location]:\n",
    "                    # (childrent[1]的值） 作为 heap[]的index 返回的值 与 heap[0] 互换\n",
    "                    self.the_heap[children[1]], self.the_heap[location] = self.the_heap[location], self.the_heap[children[1]]\n",
    "                    location = children[1]\n",
    "            else:\n",
    "                return\n",
    "            \n",
    "            # 重复操作\n",
    "            children = self.get_child(location)\n",
    "            \n",
    "    # remove elements from the Heap\n",
    "    # 当从Heap 中删除值时：\n",
    "    # 1. 先将List中最后一个值 与根互换\n",
    "    # 2. 此时原 根 值为列表最后一个值\n",
    "    # 3. 将 列表最后一个值（原根值） 删除\n",
    "    # 4. call sink（） 将现有 根（原最后一个值）沉降回 现有树 的最后一个值\n",
    "    def serve(self):\n",
    "        # 位置互换\n",
    "        # B 例 当前 heap[0] -> 2, heap[-1] -> 1, 赋值为 heap[-1] -> 2, heap[0] -> 1\n",
    "        self.the_heap[0], self.the_heap[-1] = self.the_heap[-1],self.the_heap[0]\n",
    "        # 将最后一个值 pop\n",
    "        item = self.the_heap.pop()\n",
    "        # call sink()\n",
    "        self.sink()\n",
    "        # 返回被 pop 掉的值\n",
    "        return item\n",
    "    \n",
    "    # get parent values (9 - 1) //2 = 4\n",
    "    def get_parent(self,x):\n",
    "        if((x-1)//2) <= 0:\n",
    "            return 0\n",
    "        else:\n",
    "            return (x-1)//2\n",
    "        \n",
    "    # get child\n",
    "    def get_child(self,x):\n",
    "        # 此时 x 为 0\n",
    "        # so left always smaller than right\n",
    "        left = 2*x # left = 0\n",
    "        right = 2*x+1 # right = 1\n",
    "        \n",
    "        # 当 left >= heap 长度, 此时 left = 0， 不成立\n",
    "        if left >= len(self.the_heap):\n",
    "            # 返回空 list\n",
    "            return []\n",
    "        # 当 right >= heap 长度， 基于 case B， 此时 right = 1， list 长度为 2， 不成立\n",
    "        elif right >= len(self.the_heap):\n",
    "            # [left] 就是 right 的值\n",
    "            return [left]\n",
    "        # 都不成立 返回[两个值]， 此时 返回[0,1]\n",
    "        else:\n",
    "            return [left,right]\n",
    "        \n",
    "        \n",
    "        # lets run it\n",
    "test_heap = Heap()\n",
    "\n",
    "items = [5,3,1,9,7,8]\n",
    "\n",
    "for item in items:\n",
    "    test_heap.add(item)\n",
    "    print(\"The step add to heap  \",test_heap)\n",
    "\n",
    "end_list = []\n",
    "\n",
    "while len(test_heap) > 0:\n",
    "    end_list.append(test_heap.serve())\n",
    "\n",
    "print(\"The step reomve from heap  \",end_list)"
   ]
  },
  {
   "cell_type": "markdown",
   "metadata": {},
   "source": [
    "## Wk7 - BST"
   ]
  },
  {
   "cell_type": "markdown",
   "metadata": {},
   "source": [
    "### Node: the very basic part that must have to build a tree\n",
    "– Nodes for the data structure for today require two links rather\n",
    "than one.\n",
    "– There is a need for a left, and a right element, thus, the\n",
    "definition has changed:"
   ]
  },
  {
   "cell_type": "markdown",
   "metadata": {},
   "source": [
    "### Two tree search steps:\n",
    "– Breadth First Search (BFS) 广度优先 -》 层级优先按层访问\n",
    "– Depth First Search (DFS) 深度优先 -》一条路线直接查找到最低\n",
    "#### 二叉树 -》》 左端放 小， 右端放 大\n",
    "#### 二叉树应该是平衡的 \n",
    "\n",
    "Find the minimum element:\n",
    "– All way to the left.\n",
    "▪ Find the maximum element:\n",
    "– All way to the right.\n",
    "\n",
    "## 暂不考虑空间复杂度 以下均为时间复杂度 O 表示\n",
    "\n",
    "#### 平衡树的 Complexity ->  log2 n     n 为层数\n",
    "because with every step down the tree, the search space\n",
    "possibilities are halved.\n",
    "\n",
    "#### 不平衡树的 Complexity ->  n\n",
    "because probing for an element that is not there, in the worst\n",
    "case, will require each element to be examined.\n",
    "\n",
    "### Quick fill template"
   ]
  },
  {
   "cell_type": "code",
   "execution_count": null,
   "metadata": {},
   "outputs": [],
   "source": [
    "[1,2,3,4,5,6,7] # mid = 4\n",
    "[:mid] = [1,2,3] # mid = 2\n",
    "[mid:] = [5,6,7] # mid = 6\n",
    "\n",
    "\n",
    "     1\n",
    "      \\\n",
    "       2\n",
    "        \\\n",
    "         3\n",
    "          \\\n",
    "          10"
   ]
  },
  {
   "cell_type": "markdown",
   "metadata": {},
   "source": [
    "<img src=\"Balance_Tree.jpg\">"
   ]
  },
  {
   "cell_type": "markdown",
   "metadata": {},
   "source": [
    "## Wk-9 More Searching & Sorting \n",
    "\n",
    "What is algorithm?\n",
    "– The general solution designed for a specific problem\n",
    "– Specifies a sequence of step-by-step instructions with the flow of\n",
    "control indicating how each of the instructions should be executed\n",
    "\n",
    "Inefficient performance\n",
    "### Given a list (n) of items and a query value\n",
    "\n",
    "### Best case: 1 operation\n",
    "\n",
    "### Worst case: n operations\n",
    "\n",
    "#### Whenever we say just O(n), that is saying the worst case"
   ]
  },
  {
   "cell_type": "markdown",
   "metadata": {},
   "source": [
    "### Linear Search -> 线性查找\n",
    "\n",
    "#### 非常经典的 线性查找 就是用 loop 逐个遍历List中的值\n",
    "\n",
    "#### 时间复杂性 -》》 O(n)\n",
    "\n",
    "Worst-case performance\tO(n)\n",
    "Best-case performance\tO(1)\n",
    "\n",
    "A linear search scans one item at a time, without jumping to any item .\n",
    "\n",
    "The worst case complexity is  O(n), sometimes known an O(n) search\n",
    "Time taken to search elements keep increasing as the number of elements are increased."
   ]
  },
  {
   "cell_type": "code",
   "execution_count": 34,
   "metadata": {},
   "outputs": [
    {
     "name": "stdout",
     "output_type": "stream",
     "text": [
      "9 at index 4\n"
     ]
    },
    {
     "data": {
      "text/plain": [
       "True"
      ]
     },
     "execution_count": 34,
     "metadata": {},
     "output_type": "execute_result"
    }
   ],
   "source": [
    "# build a Linear Search\n",
    "def linear_search(sample, target):\n",
    "    # n 为sample List的 长度\n",
    "    n = len(sample)\n",
    "    # 遍历 n 遍\n",
    "    for i in range(n):\n",
    "        # 如果sample list的 ith index 的值 为 目标。\n",
    "        # 即打印并 返回 True \n",
    "        if sample[i] == target:\n",
    "            print(f'{target} at index {i}')\n",
    "            return True\n",
    "    # 所有值都被 Loop 过之后也没有找到目标 即返回False\n",
    "    return False\n",
    "\n",
    "# lets run it\n",
    "test = [1,2,3,'m',9,'n','X']\n",
    "\n",
    "linear_search(test, 9)"
   ]
  },
  {
   "cell_type": "markdown",
   "metadata": {},
   "source": [
    "### Binary Search -> 二分查找\n",
    "\n",
    "#### 用中位 不停的将 List 切成2块\n",
    "\n",
    "#### 时间复杂性 Binary search has time complexity —》》 O(log n)."
   ]
  },
  {
   "cell_type": "code",
   "execution_count": 38,
   "metadata": {},
   "outputs": [
    {
     "name": "stdout",
     "output_type": "stream",
     "text": [
      "9 at index 7, 1\n"
     ]
    },
    {
     "data": {
      "text/plain": [
       "True"
      ]
     },
     "execution_count": 38,
     "metadata": {},
     "output_type": "execute_result"
    }
   ],
   "source": [
    "# # Binary search\n",
    "def binary_search(sample, target):\n",
    "    # 设置最小 长度值\n",
    "    low = 0\n",
    "    # 设置最大 长度值\n",
    "    high = len(sample) - 1\n",
    "    # 运行次数 计数\n",
    "    count = 0\n",
    "    # 当循环成立， 不停的切开sample 找新的mid\n",
    "    while low <= high:\n",
    "        # 设置 中间位置\n",
    "        mid = (low + high) // 2\n",
    "        # 如果找到目标 此时值等于 sample[中间位] 携带的值\n",
    "        if sample[mid] == target:\n",
    "            print(f'{target} at index {mid}, {count}')\n",
    "            return True\n",
    "        \n",
    "        # 如果目标小于 sample[中间位] 携带的值\n",
    "        # 不停的向左切\n",
    "        elif target < sample[mid]:\n",
    "            count += 1\n",
    "            # 设置 最大长度为中间位 -1\n",
    "            # 如果 mid 是 5， 此时将 设置为 high = 4\n",
    "            # 下次循环运行时 如果low 小于等于 = 4 即条件成立。\n",
    "            high = mid - 1\n",
    "            \n",
    "        # 如果目标大于 sample[中间位] 携带的值\n",
    "        # 不停的向右切\n",
    "        else:\n",
    "            count += 1\n",
    "            # 设置 最小长度为中间位 +1\n",
    "            # 如果mid 是 5， 此时将 设置为 low = 6\n",
    "            # 下次循环运行时 如果 low 小于等于 最大长度值 即条件成立\n",
    "            low = mid + 1\n",
    "    \n",
    "    # 值不存在 返回False\n",
    "    return False\n",
    "\n",
    "b_test = [1,2,3,4,5,7,8,9,6,0]\n",
    "\n",
    "# sample 长度为 n = 10\n",
    "# mid = sample[5] = 7\n",
    "# 此时目标（9）大于 sample[mid]= 7 \n",
    "# 向右切，计数器 + 1， 新的 low 值 为 mid + 1 = 6 So, sample[6] = 8\n",
    "# 新mid 值为 （8 + 10） //2 = 9\n",
    "# 满足第一个 if 条件\n",
    "# 返回 True\n",
    "binary_search(b_test, 9)"
   ]
  },
  {
   "cell_type": "markdown",
   "metadata": {},
   "source": [
    "## Wk8 - Testing, Exception Handling\n",
    "\n",
    "Testing:\n",
    "– Determine the correctness and quality of your application\n",
    "(program)\n",
    "– Identify and rectify errors and defects in your application before\n",
    "its deployment by end users\n",
    "\n",
    "Unit testing:\n",
    "– Individual units or components of a program are tested\n",
    "– Validate that each unit is fully functional without errors\n",
    "\n",
    "▪ Integration testing:\n",
    "– Individual units are combined and tested as a group\n",
    "– Errors/defects might expose during interaction between integrated units\n",
    "\n",
    "▪ System testing:\n",
    "– The complete integrated application is tested as a whole\n",
    "– Ensure that all the functionality and requirements are achieved\n",
    "\n",
    "▪ Acceptance testing:\n",
    "– The complete application is tested by users before its deployment\n",
    "– Evaluate the system complies with all the business requirements\n",
    "\n",
    "Valid (positive) cases:\n",
    "– Based upon “correct” input data\n",
    "– Examples: 55, 60, 65, …, 85, 90, 95, …\n",
    "\n",
    "▪ Invalid (negative) cases:\n",
    "– Based upon “incorrect” input data\n",
    "– Examples: -1, 0, 5, …, 45, 49, 101, 200, …\n",
    "\n",
    "▪ Boundary cases:\n",
    "– Boundary values of the “equivalence class” for valid cases\n",
    "– Examples: (49, 50) and (100, 101)"
   ]
  },
  {
   "cell_type": "markdown",
   "metadata": {},
   "source": [
    "### Unit Test\n",
    "– Create a test class by subclassing from unittest.TestCase\n",
    "– Define various test methods (test cases) within the test class"
   ]
  },
  {
   "cell_type": "markdown",
   "metadata": {},
   "source": [
    "<img src=\"testcase.jpg\">"
   ]
  },
  {
   "cell_type": "code",
   "execution_count": 42,
   "metadata": {},
   "outputs": [
    {
     "name": "stderr",
     "output_type": "stream",
     "text": [
      ".\n",
      "----------------------------------------------------------------------\n",
      "Ran 1 test in 0.002s\n",
      "\n",
      "OK\n"
     ]
    },
    {
     "data": {
      "text/plain": [
       "<unittest.runner.TextTestResult run=1 errors=0 failures=0>"
      ]
     },
     "execution_count": 42,
     "metadata": {},
     "output_type": "execute_result"
    }
   ],
   "source": [
    "# make a sample function\n",
    "def production(num1, num2):\n",
    "    result = num1 * num2\n",
    "    return result\n",
    "\n",
    "# import unittest 模组\n",
    "import unittest\n",
    "\n",
    "# make a test case\n",
    "class Testing(unittest.TestCase):\n",
    "    \n",
    "    def test_aboveFunction(self):\n",
    "        # assertEqual 2 * 5 的返回值 是否等于 10\n",
    "        self.assertEqual(production(2,5), 10)\n",
    "    \n",
    "# 测试\n",
    "tryout = unittest.TestLoader().loadTestsFromTestCase(Testing)\n",
    "unittest.TextTestRunner().run(tryout)"
   ]
  },
  {
   "cell_type": "markdown",
   "metadata": {},
   "source": [
    "## Exceptions \n",
    "\n",
    "### type of Errors\n",
    "Syntax errors:\n",
    "– Code is not syntactically well formed and cannot be understood\n",
    "by the compiler/interpreter\n",
    "– Examples in Python: SyntaxError\n",
    "    \n",
    "▪ Run-time errors:\n",
    "– Occur during execution; errors that are anticipated and can be\n",
    "dealt with appropriately\n",
    "– Examples in Python: ValueError, TypeError, NameError\n",
    "    \n",
    "▪ Logic errors:\n",
    "– Incorrect implementation of the program’s logic\n",
    "– Program runs without errors but result in unexpected output\n",
    "\n",
    "▪ SyntaxError:\n",
    "– Errors in the syntax of your program (parsing errors in Python)\n",
    "\n",
    "▪ NameError: (exception in Python)\n",
    "– Attempt to use a variable (or value) before initialising it; attempt to use a\n",
    "module or function without first importing it\n",
    "\n",
    "▪ TypeError: (exception in Python)\n",
    "– Attempt to use incompatible data types within a single statement; attempt\n",
    "to pass an argument of the wrong type\n",
    "\n",
    "▪ ValueError: (exception in Python)\n",
    "– Attempt to pass an argument with the correct type but with a wrong value\n",
    "\n",
    "▪ RuntimeError: (exception in Python)\n",
    "– An error detected that doesn’t fall into any of the pre-defined error types\n"
   ]
  },
  {
   "cell_type": "code",
   "execution_count": 55,
   "metadata": {},
   "outputs": [
    {
     "name": "stdout",
     "output_type": "stream",
     "text": [
      "enter num1   5\n",
      "enter num2   5\n",
      "result is 1\n",
      "## Calculation done\n"
     ]
    }
   ],
   "source": [
    "# make a sample \n",
    "try:\n",
    "    num1 = int(input(\"enter num1   \"))\n",
    "    num2 = int(input(\"enter num2   \"))\n",
    "    result = num1 // num2\n",
    "except ValueError:\n",
    "    print(\"Invalid input value\")\n",
    "except ZeroDivisionError:\n",
    "    print(\"cannot divide by zero\")\n",
    "else:\n",
    "    print(f\"result is {result}\")\n",
    "finally:\n",
    "    print(\"## Calculation done\")"
   ]
  },
  {
   "cell_type": "markdown",
   "metadata": {},
   "source": [
    "## WK10 - Recursion and Divide-and-Conquer\n",
    "\n",
    "### Divide-and-Conquer: (分治法)\n",
    "– Solving a complex problem by breaking it into smaller\n",
    "manageable sub-problems\n",
    "\n",
    "– Sub-problems can then be solved in a similar way (with the\n",
    "same solution)\n",
    "\n",
    "– Sub-solutions are then combined to produce the final solution\n",
    "for the original problem"
   ]
  },
  {
   "cell_type": "markdown",
   "metadata": {},
   "source": [
    "#### Recursion:\n",
    "– A divide-and-conquer approach for solving computational\n",
    "problems\n",
    "\n",
    "– Each problem is “recursively” decomposed into sub-problems\n",
    "(which have the same properties the original problem but\n",
    "smaller in size)\n",
    "\n",
    "– When the sub-problems have reached the simplest form, i.e.\n",
    "a known solution can be defined\n",
    "\n",
    "– The known solutions of these sub-problems are then\n",
    "recomposed together to produce the solution of the\n",
    "original problem\n",
    "\n",
    "#### Three key requirements:\n",
    "– Base case: The recursive function must have a base case (i.e.\n",
    "the simplest form)\n",
    "\n",
    "– Convergence: The recursive function must be able to\n",
    "decompose the original problem into sub-problems; and must\n",
    "be converging towards the base case\n",
    "\n",
    "– Recursive case: The recursive function must call itself\n",
    "recursively to solve the sub-problems"
   ]
  },
  {
   "cell_type": "code",
   "execution_count": 15,
   "metadata": {},
   "outputs": [
    {
     "name": "stdout",
     "output_type": "stream",
     "text": [
      "120\n"
     ]
    }
   ],
   "source": [
    "# make a simple recursive fucntion\n",
    "def rec_factorial(n):\n",
    "    if n == 1:\n",
    "        return 1\n",
    "    return n * rec_factorial(n - 1)\n",
    "\n",
    "print(rec_factorial(5))\n",
    "# 5 * (5-1) * （4-1） * （3-1）*（2-1）* 1 \n",
    "# 2 - 1 == 1 then return 1"
   ]
  },
  {
   "cell_type": "code",
   "execution_count": 23,
   "metadata": {},
   "outputs": [
    {
     "name": "stdout",
     "output_type": "stream",
     "text": [
      "234 1 1234\n",
      "34 2 234\n",
      "4 3 34\n",
      "4321\n"
     ]
    }
   ],
   "source": [
    "def mystert_func(a):\n",
    "    if len(a) == 1:\n",
    "        return a\n",
    "    print(a[1:], a[0], a)\n",
    "    return mystert_func(a[1:]) + a[0]\n",
    "\n",
    "a = \"1234\"\n",
    "print(mystert_func(a))\n",
    "# 1234, \n",
    "#[1;] 从第二个开始后面的所有 包括第二个\n",
    "# a[1:] = 234, a[0] = 1\n",
    "# a[1:] = 34,  a[0] = 2\n",
    "# a[1:] = 4,   a[0] = 3\n",
    "# now len(a) == 1, 返回 a, a == 4\n",
    "# a[1:] + a[0] = 4321"
   ]
  },
  {
   "cell_type": "code",
   "execution_count": 14,
   "metadata": {},
   "outputs": [
    {
     "name": "stdout",
     "output_type": "stream",
     "text": [
      "5 at index 1\n"
     ]
    },
    {
     "data": {
      "text/plain": [
       "True"
      ]
     },
     "execution_count": 14,
     "metadata": {},
     "output_type": "execute_result"
    }
   ],
   "source": [
    "# buiild a recursive binary search tree\n",
    "def rec_binary_search(sample, target):\n",
    "    # 对比传统的二叉查找 这里是第一个不同\n",
    "    # 如果sample list 长度等于0 直接返回Fasle 中断循环\n",
    "    if len(sample) == 0:\n",
    "        return False\n",
    "    # 如果长度不等於0 则继续运行\n",
    "    else:\n",
    "        # 用长度切分， 设定中位\n",
    "        mid = len(sample) // 2\n",
    "        \n",
    "        # 如果中位数符合 则直接找到值 返回True\n",
    "        if sample[mid] == target:\n",
    "            print(f'{target} at index {mid}')\n",
    "            return True\n",
    "        \n",
    "        # 如果目标小于中位数，则定义左半部分。\n",
    "        elif target < sample[mid]:\n",
    "            # 切片sample list 取中位左侧部分\n",
    "            left_part = sample[:mid]\n",
    "            # 重新 调用 fucntion 达到循环的目的\n",
    "            return rec_binary_search(left_part, target)\n",
    "        else:\n",
    "            # 切片 sample list 取中位右侧部分\n",
    "            right_part = sample[mid+1:]\n",
    "            return rec_binary_search(right_part, target)\n",
    "        \n",
    "# lets run\n",
    "b_test = [1,2,3,4,5,7,8,9,6,0]\n",
    "\n",
    "\n",
    "\n",
    "rec_binary_search(b_test, 5)"
   ]
  },
  {
   "cell_type": "markdown",
   "metadata": {},
   "source": [
    "## Sorting \n",
    "### Merg sort -》》 O(n*log(n)):\n",
    "– The divide step computes the midpoint\n",
    "of each of the sub-arrays. Each of this\n",
    "step just takes O(1) time.\n",
    "\n",
    "– The conquer step recursively sorts two\n",
    "subarrays of n/2 (for even n) elements\n",
    "each.\n",
    "\n",
    "– The merge step merges n elements\n",
    "which takes O(n) time.\n",
    "\n",
    "### Quick sort -》》 O(n*log(n))\n",
    "– Best case: O(n*log(n))\n",
    "– Worst case: O(n^2)\n",
    "    \n",
    "### Bubble sort -》》 O(n)\n",
    "- Best case O(n)\n",
    "- Worst-case and average complexity of О(n^2)\n",
    "\n",
    "### Selection sort -》》О(n^2)\n",
    "- best -> О(n^2)\n",
    "- wort -> О(n^2)\n",
    "\n",
    "### Insertion sort -》》O(n)\n",
    "- best -> O(n)\n",
    "- wort -> O(n^2)"
   ]
  },
  {
   "cell_type": "code",
   "execution_count": 145,
   "metadata": {},
   "outputs": [
    {
     "name": "stdout",
     "output_type": "stream",
     "text": [
      "left part [1, 2, 3, 4, 5]\n",
      "right part [7, 8, 9, 6, 0]\n",
      "left part [1, 2]\n",
      "right part [3, 4, 5]\n",
      "left part [1]\n",
      "right part [2]\n",
      "After merging: [1]\n",
      "After merging: [2]\n",
      "Merging[1] with [2]\n",
      "After merging: [1, 2]\n",
      "left part [3]\n",
      "right part [4, 5]\n",
      "After merging: [3]\n",
      "left part [4]\n",
      "right part [5]\n",
      "After merging: [4]\n",
      "After merging: [5]\n",
      "Merging[4] with [5]\n",
      "After merging: [4, 5]\n",
      "Merging[3] with [4, 5]\n",
      "After merging: [3, 4, 5]\n",
      "Merging[1, 2] with [3, 4, 5]\n",
      "After merging: [1, 2, 3, 4, 5]\n",
      "left part [7, 8]\n",
      "right part [9, 6, 0]\n",
      "left part [7]\n",
      "right part [8]\n",
      "After merging: [7]\n",
      "After merging: [8]\n",
      "Merging[7] with [8]\n",
      "After merging: [7, 8]\n",
      "left part [9]\n",
      "right part [6, 0]\n",
      "After merging: [9]\n",
      "left part [6]\n",
      "right part [0]\n",
      "After merging: [6]\n",
      "After merging: [0]\n",
      "Merging[6] with [0]\n",
      "After merging: [0, 6]\n",
      "Merging[9] with [0, 6]\n",
      "After merging: [0, 6, 9]\n",
      "Merging[7, 8] with [0, 6, 9]\n",
      "After merging: [0, 6, 7, 8, 9]\n",
      "Merging[1, 2, 3, 4, 5] with [0, 6, 7, 8, 9]\n",
      "After merging: [0, 1, 2, 3, 4, 5, 6, 7, 8, 9]\n"
     ]
    }
   ],
   "source": [
    "# build merge sorting\n",
    "def merge_sort(sample):\n",
    "    n = len(sample)\n",
    "\n",
    "    if n > 1:\n",
    "        mid = int(n/2)\n",
    "        # 用 index 【mid】 切片\n",
    "        # 左端 《- mid 左侧全部\n",
    "        left_sublist = sample[:mid]\n",
    "        print(\"left part\", sample[:mid])\n",
    "        # 右端 mid -》 右侧全部\n",
    "        right_sublist = sample[mid:]\n",
    "        print(\"right part\", sample[mid:])\n",
    "        \n",
    "        # recursively part 重复部分\n",
    "        merge_sort(left_sublist)\n",
    "        merge_sort(right_sublist)\n",
    "        \n",
    "        print(\"Merging\" + str(left_sublist) + \" with \"+ str(right_sublist))\n",
    "        \n",
    "        # index for left sublist\n",
    "        left = 0\n",
    "        # index for right sublist\n",
    "        right = 0\n",
    "        # index for main sublist\n",
    "        main = 0\n",
    "        \n",
    "        # 如果左部分 index 小于左部长度 且 右部index 小于右部分长度， 则条件成立\n",
    "        while left < len(left_sublist) and right < len(right_sublist):\n",
    "            \n",
    "            # 如果左部分[0] 小于等于 右部分[0]\n",
    "            if left_sublist[left] <= right_sublist[right]:\n",
    "                # 设定总list[0] 为 左部分[0]\n",
    "                # 此时 左侧中的值被放在总list 第一个。\n",
    "                sample[main] = left_sublist[left]\n",
    "                # 左侧index 增加 1\n",
    "                left += 1\n",
    "                \n",
    "            # 如果左部分[0] 大于 右部分[0]    \n",
    "            else:\n",
    "                # 设定总list[0] 为 右部分[0]\n",
    "                sample[main] = right_sublist[right]\n",
    "                # 右侧index 增加 1\n",
    "                right += 1\n",
    "                \n",
    "            # 总list index 增加 1， 位置推进\n",
    "            main += 1\n",
    "        \n",
    "        # 左部分 index 小于 左部分长度， 即成立\n",
    "        while left < len(left_sublist):\n",
    "            # 设 总list[1] = 左部分[1] \n",
    "            sample[main] = left_sublist[left]\n",
    "            # index 增加 1 ，位置推进\n",
    "            left += 1\n",
    "            main += 1\n",
    "        \n",
    "        # 右部分 index 小于 右部分长度， 即成立\n",
    "        while right < len(right_sublist):\n",
    "            # 设 总list[1] = 右部分[1]\n",
    "            sample[main] = right_sublist[right]\n",
    "            # index 增加 1 ，位置推进\n",
    "            right += 1\n",
    "            main += 1\n",
    "    \n",
    "    print(\"After merging: \" +str(sample))\n",
    "\n",
    "\n",
    "test2 = [1,2,3,4,5,7,8,9,6,0]\n",
    "test3 = ['a', 'f', 'c', 'g', 'd']\n",
    "\n",
    "merge_sort(test2)"
   ]
  },
  {
   "cell_type": "code",
   "execution_count": 147,
   "metadata": {},
   "outputs": [
    {
     "data": {
      "text/plain": [
       "2.5"
      ]
     },
     "execution_count": 147,
     "metadata": {},
     "output_type": "execute_result"
    }
   ],
   "source": [
    "int(5)/2\n"
   ]
  },
  {
   "cell_type": "code",
   "execution_count": 148,
   "metadata": {},
   "outputs": [
    {
     "data": {
      "text/plain": [
       "2"
      ]
     },
     "execution_count": 148,
     "metadata": {},
     "output_type": "execute_result"
    }
   ],
   "source": [
    "5//2"
   ]
  },
  {
   "cell_type": "code",
   "execution_count": 28,
   "metadata": {},
   "outputs": [
    {
     "name": "stdout",
     "output_type": "stream",
     "text": [
      "pivot:  1\n",
      "partiontion at index:  1\n",
      "[0, 1, 3, 4, 5, 7, 8, 9, 6, 2]\n",
      "after partitioning: [0] and [3, 4, 5, 7, 8, 9, 6, 2]\n",
      "pivot:  3\n",
      "partiontion at index:  3\n",
      "[0, 1, 2, 3, 5, 7, 8, 9, 6, 4]\n",
      "after partitioning: [2] and [5, 7, 8, 9, 6, 4]\n",
      "pivot:  5\n",
      "partiontion at index:  5\n",
      "[0, 1, 2, 3, 4, 5, 8, 9, 6, 7]\n",
      "after partitioning: [4] and [8, 9, 6, 7]\n",
      "pivot:  8\n",
      "partiontion at index:  8\n",
      "[0, 1, 2, 3, 4, 5, 6, 7, 8, 9]\n",
      "after partitioning: [6, 7] and [9]\n",
      "pivot:  6\n",
      "partiontion at index:  6\n",
      "[0, 1, 2, 3, 4, 5, 6, 7, 8, 9]\n",
      "after partitioning: [] and [7]\n"
     ]
    }
   ],
   "source": [
    "# build quick sort\n",
    "def quick_sort(sample):\n",
    "    first = 0\n",
    "    last = len(sample) - 1\n",
    "    quick_sort_aux(sample, first, last)\n",
    "\n",
    "def quick_sort_aux(sample, first, last):\n",
    "    # 总list 中数值大于两个时\n",
    "    if first < last:\n",
    "        # 划分区域的 划分点\n",
    "        partition_point = partitioning(sample, first, last)\n",
    "        \n",
    "        print(\"partiontion at index: \", partition_point)\n",
    "        print(sample)\n",
    "        print(\"after partitioning: \" + str(sample[first:partition_point])+ \" and \" + \n",
    "                 str(sample[partition_point+1:last+1])) \n",
    "        \n",
    "        # recursively part 重复部分\n",
    "        quick_sort_aux(sample,first, partition_point -1)\n",
    "        quick_sort_aux(sample, partition_point + 1, last)\n",
    "        \n",
    "def partitioning(sample, first, last):\n",
    "    pivot_value = sample[first]\n",
    "    print(\"pivot: \", pivot_value)\n",
    "    \n",
    "    left_index = first + 1\n",
    "    right_index = last\n",
    "    \n",
    "    complete = False\n",
    "    \n",
    "    while not complete:\n",
    "        \n",
    "        while left_index <= right_index and sample[left_index] <= pivot_value:\n",
    "            left_index +=1\n",
    "        \n",
    "        while right_index >= left_index and sample[right_index] >= pivot_value:\n",
    "            right_index -= 1\n",
    "            \n",
    "        if right_index < left_index:\n",
    "            complete = True\n",
    "        else:\n",
    "            sample[left_index], sample[right_index] = sample[right_index], sample[left_index]\n",
    "            \n",
    "    sample[first], sample[right_index] = sample[right_index], sample[first]\n",
    "    \n",
    "    return right_index\n",
    "\n",
    "\n",
    "test2 = [1,2,3,4,5,7,8,9,6,0]\n",
    "quick_sort(test2)"
   ]
  },
  {
   "cell_type": "code",
   "execution_count": 29,
   "metadata": {},
   "outputs": [
    {
     "name": "stdout",
     "output_type": "stream",
     "text": [
      "[1, 2, 3, 4, 5, 6, 7]\n"
     ]
    }
   ],
   "source": [
    "# build Bubble sort\n",
    "def bubble_sort(sample):\n",
    "    n = len(sample)\n",
    "    # n-1 最后一位， 0 初始位， -1 倒数第一位\n",
    "    for i in range(n - 1, 0, -1):\n",
    "        for j in range(i):\n",
    "            # 设定 temp value 携带临时变量\n",
    "            # 互换变量\n",
    "            if sample[j] > sample[j + 1]:\n",
    "                temp = sample[j]\n",
    "                sample[j] = sample[j + 1]\n",
    "                sample[j + 1] = temp\n",
    "    return sample\n",
    "\n",
    "\n",
    "test = [2, 7, 4, 1, 5, 6, 3]\n",
    "\n",
    "print(bubble_sort(test))"
   ]
  },
  {
   "cell_type": "code",
   "execution_count": 30,
   "metadata": {},
   "outputs": [
    {
     "name": "stdout",
     "output_type": "stream",
     "text": [
      "[1, 2, 3, 4, 5, 6, 7]\n"
     ]
    }
   ],
   "source": [
    "# build selection sort\n",
    "def selection_sort(sample):\n",
    "    n = len(sample)\n",
    "    for i in range(n - 1):\n",
    "        # 假设 i 为最小值\n",
    "        smallest = i\n",
    "        for j in range(i + 1, n):\n",
    "            if sample[j] < sample[smallest]:\n",
    "                smallest = j\n",
    "            # 位置调换\n",
    "        sample[smallest], sample[i] = sample[i], sample[smallest]\n",
    "\n",
    "    return sample\n",
    "\n",
    "test = [2, 7, 4, 1, 5, 6, 3]\n",
    "\n",
    "print(selection_sort(test))"
   ]
  },
  {
   "cell_type": "code",
   "execution_count": 32,
   "metadata": {},
   "outputs": [
    {
     "name": "stdout",
     "output_type": "stream",
     "text": [
      "7\n",
      "4\n",
      "1\n",
      "5\n",
      "6\n",
      "3\n"
     ]
    },
    {
     "data": {
      "text/plain": [
       "[1, 2, 3, 4, 5, 6, 7]"
      ]
     },
     "execution_count": 32,
     "metadata": {},
     "output_type": "execute_result"
    }
   ],
   "source": [
    "# insertion_sort\n",
    "def insertion_sort(sample):\n",
    "    n = len(sample)\n",
    "\n",
    "    # 从1开始\n",
    "    for i in range(1, n):\n",
    "        current = sample[i]\n",
    "        pos = i\n",
    "        \n",
    "        # 当 pos 大于 0 且 index [pos -1] 的 值大于当前值\n",
    "        while pos > 0 and sample[pos - 1] > current:\n",
    "            sample[pos] = sample[pos - 1]\n",
    "            # 减小pos \n",
    "            pos -= 1\n",
    "        sample[pos] = current\n",
    "        print(current)\n",
    "    return sample\n",
    "\n",
    "test = [2, 7, 4, 1, 5, 6, 3]\n",
    "\n",
    "insertion_sort(test)\n"
   ]
  },
  {
   "cell_type": "markdown",
   "metadata": {},
   "source": [
    "## Wk 11 - Greed, Brute-force, Backtracking\n",
    "\n",
    "#### Greed\n",
    "A greedy algorithm is any algorithm that follows the\n",
    "problem-solving heuristic of making the locally optimal\n",
    "choice at each stage with the intent of finding a global\n",
    "optimum.\n",
    "见到符合的case 直接执行\n",
    "\n",
    "#### Brute-force (one by one)\n",
    "破解行李箱锁，生成全部排列组合\n"
   ]
  },
  {
   "cell_type": "code",
   "execution_count": 36,
   "metadata": {},
   "outputs": [
    {
     "name": "stdout",
     "output_type": "stream",
     "text": [
      "11\n",
      "10\n",
      "01\n",
      "00\n"
     ]
    }
   ],
   "source": [
    "def brute_force(solution, N):\n",
    "    if len(solution) == N:\n",
    "        print(solution)\n",
    "    else:\n",
    "        options = getOptions()\n",
    "\n",
    "        for option in options:\n",
    "            brute_force(solution + option, N)\n",
    "\n",
    "def getOptions():\n",
    "    return {str(i) for i in range(0,2)}\n",
    "\n",
    "\n",
    "brute_force(\"\",2)"
   ]
  },
  {
   "cell_type": "markdown",
   "metadata": {},
   "source": [
    "### Exam Questions"
   ]
  },
  {
   "cell_type": "code",
   "execution_count": 71,
   "metadata": {},
   "outputs": [
    {
     "name": "stderr",
     "output_type": "stream",
     "text": [
      ".."
     ]
    },
    {
     "name": "stdout",
     "output_type": "stream",
     "text": [
      "[(2, 4), (3, 5), ('S', 10)]\n"
     ]
    },
    {
     "name": "stderr",
     "output_type": "stream",
     "text": [
      "\n",
      "----------------------------------------------------------------------\n",
      "Ran 2 tests in 0.002s\n",
      "\n",
      "OK\n"
     ]
    },
    {
     "data": {
      "text/plain": [
       "<unittest.runner.TextTestResult run=2 errors=0 failures=0>"
      ]
     },
     "execution_count": 71,
     "metadata": {},
     "output_type": "execute_result"
    }
   ],
   "source": [
    "# Q1 找Tuple\n",
    "def find_tuples(input_dic, threshold_value):\n",
    "    a_list = []\n",
    "    count = 0\n",
    "    for i in input_dic.keys():\n",
    "        if type(input_dic[i]) != str:\n",
    "            if input_dic[i] >= threshold_value:\n",
    "                a_tuple = (i,input_dic[i])\n",
    "                a_list.append(a_tuple)\n",
    "\n",
    "    return a_list\n",
    "\n",
    "dic =  {1: 3, 2: 4, 3: 5,4:\"Q\", \"S\": 10}\n",
    "value = 4\n",
    "\n",
    "\n",
    "print(find_tuples(dic, value))\n",
    "\n",
    "import unittest\n",
    "\n",
    "class Testing1(unittest.TestCase):\n",
    "    def test_myFuction(self):\n",
    "        self.assertIsNotNone(find_tuples(dic, 4))\n",
    "\n",
    "    def test_myFunction2(self):\n",
    "        self.assertIn((2,4), find_tuples(dic, 4))\n",
    "        \n",
    "        \n",
    "        \n",
    "suite = unittest.TestLoader().loadTestsFromTestCase(Testing1)\n",
    "unittest.TextTestRunner().run(suite)"
   ]
  },
  {
   "cell_type": "code",
   "execution_count": 47,
   "metadata": {},
   "outputs": [],
   "source": [
    "# Q2 Exceptions & I/O\n",
    "def find_student_union(inputFile1, inputFile2, outputFile):\n",
    "    set1 = set()\n",
    "    set2 = set()\n",
    "    try:\n",
    "        file1 = open(inputFile1, \"r\")\n",
    "        file2 = open(inputFile2, \"r\")\n",
    "    \n",
    "    # rise E, 找不到文件\n",
    "    except IOError:\n",
    "        print(\"Please check your input files\")\n",
    "    else:\n",
    "        value1_only = file1.read().splitlines()\n",
    "        set1 = value1_only\n",
    "        \n",
    "        value2_only = file2.read().splitlines()\n",
    "        set2 = value2_only\n",
    "            \n",
    "        file1.close()\n",
    "        file2.close()\n",
    "        final_set = set1 + set2\n",
    "        file3 = open(outputFile, \"w\")\n",
    "        for i in final_set:\n",
    "            file3.write(str(final_set.pop()))\n",
    "        file3.close()\n",
    "\n",
    "find_student_union(\"fi1.txt\", \"fi2.txt\",\"fo.txt\")"
   ]
  },
  {
   "cell_type": "code",
   "execution_count": 48,
   "metadata": {
    "scrolled": true
   },
   "outputs": [
    {
     "name": "stdout",
     "output_type": "stream",
     "text": [
      "Password Generator\n",
      "==================\n",
      "\n",
      "Number of passwords: 4\n",
      "Password length (min 4): 4\n",
      "\n",
      "Here are your passwords:\n",
      "Password number 1 : i A 8 [ r # V E\n",
      "Password number 2 : m G 7 < h * y w\n",
      "Password number 3 : l S 2 ] # M - 9\n",
      "Password number 4 : b N 5 } M 4 E b\n",
      "\n",
      "==================\n",
      "\n"
     ]
    }
   ],
   "source": [
    "# Q3 Debugging\n",
    "import random\n",
    "import string\n",
    "\n",
    "\n",
    "def generate_random_password(password_length):\n",
    "    data_source = string.ascii_letters + string.digits + string.punctuation\n",
    "    password = random.choice(string.ascii_lowercase)\n",
    "    password += random.choice(string.ascii_uppercase)\n",
    "    password += random.choice(string.digits)\n",
    "    password += random.choice(string.punctuation)\n",
    "\n",
    "    for i in range(password_length):\n",
    "        password += random.choice(data_source)\n",
    "        password_list = list(password)\n",
    "        password_list = random.shuffle(password_list)\n",
    "        # bug\n",
    "    password_list = ' '.join(password)\n",
    "\n",
    "    return password_list\n",
    "\n",
    "\n",
    "def main():\n",
    "    print('Password Generator\\n==================\\n')\n",
    "    # bug\n",
    "    number = int(input('Number of passwords: '))\n",
    "\n",
    "    length = input('Password length (min 4): ')\n",
    "    # bug\n",
    "    length = int(length)\n",
    "\n",
    "    print('\\nHere are your passwords:')\n",
    "\n",
    "    # bug\n",
    "    for i in range(1, number + 1):\n",
    "        print(f\"Password number {i} : {generate_random_password (length)}\")\n",
    "\n",
    "    print('\\n==================\\n')\n",
    "\n",
    "\n",
    "if __name__ == '__main__':\n",
    "    main()"
   ]
  },
  {
   "cell_type": "code",
   "execution_count": 74,
   "metadata": {
    "scrolled": true
   },
   "outputs": [],
   "source": [
    "# Q4 Stack opreation \n",
    "def special_string_formatter(my_string):\n",
    "    string_stack = Stack()\n",
    "    string_list = list(my_string)\n",
    "    new_string = str()\n",
    "\n",
    "    for i in range(len(my_string)):\n",
    "        string_stack.push(string_list[i])\n",
    "        string_stack.print_stack()\n",
    "\n",
    "    for i in range(len(my_string)):\n",
    "        new_string += string_stack.pop()\n",
    "\n",
    "    return new_string\n",
    "\n",
    "my_str = \"qwertys\"\n",
    "\n",
    "#print(special_string_formatter(my_str))"
   ]
  },
  {
   "cell_type": "code",
   "execution_count": 80,
   "metadata": {},
   "outputs": [
    {
     "name": "stdout",
     "output_type": "stream",
     "text": [
      "2.9289682539682538\n",
      "2.928968253968254\n"
     ]
    }
   ],
   "source": [
    "# Q7 recursive case\n",
    "# 用loop 形式改写 function\n",
    "def mystery_func(n):\n",
    "    # 小于2 返回1 \n",
    "    if n < 2:\n",
    "        return 1\n",
    "    # 重复调用\n",
    "    else:\n",
    "        return 1 / n + ( mystery_func (n - 1) )\n",
    "\n",
    "print(mystery_func(10))    \n",
    "    \n",
    "def mystery_func_loop(n):\n",
    "    result = 1\n",
    "    \n",
    "    while n > 1:\n",
    "        result += 1/n\n",
    "        n -= 1\n",
    "    return result \n",
    "\n",
    "print(mystery_func_loop(10))"
   ]
  },
  {
   "cell_type": "code",
   "execution_count": 150,
   "metadata": {},
   "outputs": [
    {
     "name": "stdout",
     "output_type": "stream",
     "text": [
      "['g', 'f', 'd', 'c', 'a']\n"
     ]
    }
   ],
   "source": [
    "# Q5\n",
    "def merge_sort(alist):\n",
    "    n = len(alist)\n",
    "    if n <= 1:\n",
    "        return alist\n",
    "    mid = int(n/2)\n",
    "\n",
    "    l = merge_sort(alist[:mid])\n",
    "    r = merge_sort(alist[mid:])\n",
    "\n",
    "    l_i = 0\n",
    "    r_i = 0\n",
    "    result = []\n",
    "\n",
    "    while l_i < len(l) and r_i < len(r):\n",
    "        if l[l_i] >= r[r_i]:\n",
    "            result.append(l[l_i])\n",
    "            l_i += 1\n",
    "        else:\n",
    "            result.append(r[r_i])\n",
    "            r_i += 1\n",
    "    result += l[l_i:]\n",
    "    result += r[r_i:]\n",
    "    return result\n",
    "alist = ['a', 'f', 'c', 'g', 'd']\n",
    "\n",
    "print(merge_sort(alist))"
   ]
  },
  {
   "cell_type": "code",
   "execution_count": 93,
   "metadata": {},
   "outputs": [
    {
     "name": "stdout",
     "output_type": "stream",
     "text": [
      "{'A': 2, 'B': 1, 'C': 1, 'D': 1}\n"
     ]
    }
   ],
   "source": [
    "# Mock Q1\n",
    "def find_freq(list):\n",
    "    result = {}\n",
    "    for i in list:\n",
    "        if i.isupper():\n",
    "            if i in result:\n",
    "                result[i] = result[i] + 1\n",
    "            else:\n",
    "                result[i] = 1\n",
    "    return result\n",
    "    \n",
    "char = ['a','A','b','B','c','C','d','D','A']\n",
    "print(find_freq(char))"
   ]
  },
  {
   "cell_type": "code",
   "execution_count": 100,
   "metadata": {},
   "outputs": [
    {
     "name": "stdout",
     "output_type": "stream",
     "text": [
      "deposite amount can not be 0 or less than 0\n",
      "current balance: 110\n",
      "Action fail, withdraw amount grater than current balance\n",
      "current balance: 10\n",
      "current balance: 0\n",
      "current balance is 0 or less than 0, can not withdraw\n"
     ]
    }
   ],
   "source": [
    "# Mock Q2\n",
    "class Account:\n",
    "    \n",
    "    def __init__(self, holder_name, acc_number, init_balance):\n",
    "        self.holder_name = holder_name\n",
    "        self.acc_number = acc_number\n",
    "        self.init_balance = init_balance\n",
    "        \n",
    "    def deposit(self, deposit_number):\n",
    "        if deposit_number <= 0:\n",
    "            print(\"deposite amount can not be 0 or less than 0\")\n",
    "        else:\n",
    "            self.init_balance += deposit_number\n",
    "            print(f\"current balance: {self.init_balance}\")\n",
    "        \n",
    "    def withdraw(self, withdraw_number):\n",
    "        if self.init_balance <= 0:\n",
    "            print(\"current balance is 0 or less than 0, can not withdraw\")\n",
    "        elif withdraw_number > self.init_balance:\n",
    "            print(\"Action fail, withdraw amount grater than current balance\")\n",
    "        else:\n",
    "            self.init_balance -= withdraw_number\n",
    "            print(f\"current balance: {self.init_balance}\")\n",
    "    \n",
    "    \n",
    "test = Account(\"Bob\", 12345, 100)\n",
    "test.deposit(0)\n",
    "test.deposit(10)\n",
    "test.withdraw(120)\n",
    "test.withdraw(100)\n",
    "test.withdraw(10)\n",
    "test.withdraw(1)"
   ]
  },
  {
   "cell_type": "code",
   "execution_count": 117,
   "metadata": {},
   "outputs": [
    {
     "name": "stdout",
     "output_type": "stream",
     "text": [
      "[1, 'a', 2, 'b', 3, 'c', 4, 'd']\n"
     ]
    },
    {
     "data": {
      "text/plain": [
       "<__main__.Queue at 0x2407a005108>"
      ]
     },
     "execution_count": 117,
     "metadata": {},
     "output_type": "execute_result"
    }
   ],
   "source": [
    "# Mock Q3 Queue FIFO\n",
    "class Queue:\n",
    "    def __init__(self):\n",
    "        self.queue = []\n",
    "        self.count = 0\n",
    "    \n",
    "    def is_empty():\n",
    "        return self.count == 0\n",
    "    \n",
    "    def append(self, item):\n",
    "        self.queue.append(item)\n",
    "        self.count += 1\n",
    "    \n",
    "    def serve():\n",
    "        assert not self.is_empty()\n",
    "        self.count -= 1\n",
    "        return self.queue.pop(0)\n",
    "    \n",
    "\n",
    "first_queue = [1,2,3,4]\n",
    "second_queue = ['a','b','c','d']\n",
    "\n",
    "def interweave_two_queue(first, second):\n",
    "    result = Queue()\n",
    "    if len(first) != len(second):\n",
    "        print(\"Cannot interweave two queues\")\n",
    "        return result \n",
    "    else:\n",
    "        for i in range(len(first)):\n",
    "            result.append(first[i])\n",
    "            result.append(second[i])\n",
    "        \n",
    "        print(result.queue)\n",
    "        return result\n",
    "    \n",
    "\n",
    "interweave_two_queue(first_queue, second_queue)\n",
    "        "
   ]
  },
  {
   "cell_type": "code",
   "execution_count": 120,
   "metadata": {},
   "outputs": [
    {
     "ename": "FileNotFoundError",
     "evalue": "[Errno 2] No such file or directory: 'number.txt'",
     "output_type": "error",
     "traceback": [
      "\u001b[1;31m---------------------------------------------------------------------------\u001b[0m",
      "\u001b[1;31mFileNotFoundError\u001b[0m                         Traceback (most recent call last)",
      "\u001b[1;32m<ipython-input-120-1e2c5b19b08b>\u001b[0m in \u001b[0;36m<module>\u001b[1;34m\u001b[0m\n\u001b[0;32m      5\u001b[0m         \u001b[1;32mreturn\u001b[0m \u001b[0mCounter\u001b[0m\u001b[1;33m(\u001b[0m\u001b[0mf\u001b[0m\u001b[1;33m.\u001b[0m\u001b[0mread\u001b[0m\u001b[1;33m(\u001b[0m\u001b[1;33m)\u001b[0m\u001b[1;33m.\u001b[0m\u001b[0msplit\u001b[0m\u001b[1;33m(\u001b[0m\u001b[1;33m)\u001b[0m\u001b[1;33m)\u001b[0m\u001b[1;33m\u001b[0m\u001b[1;33m\u001b[0m\u001b[0m\n\u001b[0;32m      6\u001b[0m \u001b[1;33m\u001b[0m\u001b[0m\n\u001b[1;32m----> 7\u001b[1;33m \u001b[0mprint\u001b[0m\u001b[1;33m(\u001b[0m\u001b[0mword_count\u001b[0m\u001b[1;33m(\u001b[0m\u001b[1;34m\"number.txt\"\u001b[0m\u001b[1;33m)\u001b[0m\u001b[1;33m)\u001b[0m\u001b[1;33m\u001b[0m\u001b[1;33m\u001b[0m\u001b[0m\n\u001b[0m",
      "\u001b[1;32m<ipython-input-120-1e2c5b19b08b>\u001b[0m in \u001b[0;36mword_count\u001b[1;34m(file)\u001b[0m\n\u001b[0;32m      2\u001b[0m \u001b[1;32mfrom\u001b[0m \u001b[0mcollections\u001b[0m \u001b[1;32mimport\u001b[0m \u001b[0mCounter\u001b[0m\u001b[1;33m\u001b[0m\u001b[1;33m\u001b[0m\u001b[0m\n\u001b[0;32m      3\u001b[0m \u001b[1;32mdef\u001b[0m \u001b[0mword_count\u001b[0m\u001b[1;33m(\u001b[0m\u001b[0mfile\u001b[0m\u001b[1;33m)\u001b[0m\u001b[1;33m:\u001b[0m\u001b[1;33m\u001b[0m\u001b[1;33m\u001b[0m\u001b[0m\n\u001b[1;32m----> 4\u001b[1;33m     \u001b[1;32mwith\u001b[0m \u001b[0mopen\u001b[0m\u001b[1;33m(\u001b[0m\u001b[0mfile\u001b[0m\u001b[1;33m)\u001b[0m \u001b[1;32mas\u001b[0m \u001b[0mf\u001b[0m\u001b[1;33m:\u001b[0m\u001b[1;33m\u001b[0m\u001b[1;33m\u001b[0m\u001b[0m\n\u001b[0m\u001b[0;32m      5\u001b[0m         \u001b[1;32mreturn\u001b[0m \u001b[0mCounter\u001b[0m\u001b[1;33m(\u001b[0m\u001b[0mf\u001b[0m\u001b[1;33m.\u001b[0m\u001b[0mread\u001b[0m\u001b[1;33m(\u001b[0m\u001b[1;33m)\u001b[0m\u001b[1;33m.\u001b[0m\u001b[0msplit\u001b[0m\u001b[1;33m(\u001b[0m\u001b[1;33m)\u001b[0m\u001b[1;33m)\u001b[0m\u001b[1;33m\u001b[0m\u001b[1;33m\u001b[0m\u001b[0m\n\u001b[0;32m      6\u001b[0m \u001b[1;33m\u001b[0m\u001b[0m\n",
      "\u001b[1;31mFileNotFoundError\u001b[0m: [Errno 2] No such file or directory: 'number.txt'"
     ]
    }
   ],
   "source": [
    "# word counter\n",
    "from collections import Counter\n",
    "def word_count(file):\n",
    "    with open(file) as f:\n",
    "        return Counter(f.read().split())\n",
    "    \n",
    "print(word_count(\"number.txt\"))"
   ]
  },
  {
   "cell_type": "code",
   "execution_count": 121,
   "metadata": {},
   "outputs": [
    {
     "name": "stdout",
     "output_type": "stream",
     "text": [
      "4 5\n"
     ]
    }
   ],
   "source": [
    "def count_even(nums):\n",
    "    e_count = 0\n",
    "    o_count = 0\n",
    "    for i in nums:\n",
    "        if i % 2 == 0:\n",
    "            e_count += 1\n",
    "        else:\n",
    "            o_count += 1\n",
    "    print(e_count, o_count)\n",
    "    \n",
    "    \n",
    "nums = (1,2,3,4,5,6,7,8,9)\n",
    "\n",
    "count_even(nums)\n",
    "        "
   ]
  },
  {
   "cell_type": "code",
   "execution_count": 132,
   "metadata": {},
   "outputs": [
    {
     "data": {
      "text/plain": [
       "4"
      ]
     },
     "execution_count": 132,
     "metadata": {},
     "output_type": "execute_result"
    }
   ],
   "source": [
    "class Rec:\n",
    "    def __init__(self, wid, len):\n",
    "        self.wid = wid\n",
    "        self.len = len\n",
    "        \n",
    "    def area(self):\n",
    "        if self.wid and self.len != 0:\n",
    "            return (int(self.wid * self.len))\n",
    "        else:\n",
    "            print(\"Error\")\n",
    "\n",
    "            \n",
    "test = Rec(2,2)\n",
    "test.area()"
   ]
  },
  {
   "cell_type": "code",
   "execution_count": 137,
   "metadata": {},
   "outputs": [
    {
     "data": {
      "text/plain": [
       "[['a', 'b', 'c'],\n",
       " ['a', 'c', 'b'],\n",
       " ['b', 'a', 'c'],\n",
       " ['b', 'c', 'a'],\n",
       " ['c', 'a', 'b'],\n",
       " ['c', 'b', 'a']]"
      ]
     },
     "execution_count": 137,
     "metadata": {},
     "output_type": "execute_result"
    }
   ],
   "source": [
    "def recur(options, temp, result):\n",
    "    if len(temp) == len(options):\n",
    "        result.append(temp.copy())\n",
    "    else:\n",
    "        for i in options:\n",
    "            if i not in temp:    ###########\n",
    "                temp.append(i)\n",
    "                recur(options, temp, result)\n",
    "                temp.pop()\n",
    "\n",
    "\n",
    "def combine(options):\n",
    "    result = []\n",
    "    temp = []\n",
    "    recur(options, temp, result)\n",
    "\n",
    "    return result\n",
    "\n",
    "combine([\"a\",\"b\",\"c\"])"
   ]
  },
  {
   "cell_type": "code",
   "execution_count": null,
   "metadata": {},
   "outputs": [],
   "source": [
    "def recur(options, temp, result):\n",
    "    if len(temp) == len(options):\n",
    "        result.append(temp.copy())\n",
    "    else:\n",
    "        for i in options:\n",
    "            if i not in temp:    ###########\n",
    "                temp.append(i)\n",
    "                recur(options, temp, result)\n",
    "                temp.pop()\n",
    "\n",
    "\n",
    "def combine(options):\n",
    "    result = []\n",
    "    temp = []\n",
    "    recur(options, temp, result)\n",
    "\n",
    "    return result\n",
    "\n",
    "combine([\"a\",\"b\",\"c\"])"
   ]
  },
  {
   "cell_type": "code",
   "execution_count": 144,
   "metadata": {},
   "outputs": [],
   "source": [
    "de`f find_student_union(inputFile1, inputFile2, outputFile):\n",
    "    file1 = open(inputFile1, \"r\")\n",
    "    file2 = open(inputFile2, \"r\")\n",
    "    \n",
    "    v1 = file1.read().splitlines()\n",
    "        \n",
    "    v2 = file2.read().splitlines()\n",
    "    file1.close()\n",
    "    file2.close()\n",
    "    \n",
    "    for i in v1:\n",
    "        for j in v2:\n",
    "            if v2 == v1:\n",
    "                result = (str(v1) + ','+ str(inputFile1)+','+ str(inputFile2))\n",
    "            \n",
    "    result = (str(v1) + ','+ str(inputFile1))\n",
    "    result = (str(v2) + ','+ str(inputFile2))    \n",
    "        \n",
    "\n",
    "    file3 = open(outputFile, \"w\")\n",
    "    for i in result:\n",
    "        file3.write(str(result))\n",
    "    \n",
    "    file3.close()\n",
    "    \n",
    "    \n",
    "find_student_union(\"fi1.txt\", \"fi2.txt\",\"fo.txt\")    "
   ]
  },
  {
   "cell_type": "code",
   "execution_count": 155,
   "metadata": {},
   "outputs": [
    {
     "name": "stdout",
     "output_type": "stream",
     "text": [
      "[('m', 5), ('p', 4)]\n"
     ]
    }
   ],
   "source": [
    "def find_tuples(input_dic, threshold_value):\n",
    "\n",
    "  input_list = []\n",
    "  for i in input_dic.keys():\n",
    "      if type(input_dic[i]) != str:\n",
    "          if input_dic[i] >= threshold_value:\n",
    "              a_tuple = (i,input_dic[i])\n",
    "              input_list.append(a_tuple)\n",
    "  return input_list\n",
    "\n",
    "\n",
    "\n",
    "input_dic = {\"a\": \"asd\", \"m\": 5, \"p\": 4}\n",
    "\n",
    "print(find_tuples(input_dic,4))"
   ]
  },
  {
   "cell_type": "code",
   "execution_count": null,
   "metadata": {},
   "outputs": [],
   "source": []
  }
 ],
 "metadata": {
  "kernelspec": {
   "display_name": "Python 3",
   "language": "python",
   "name": "python3"
  },
  "language_info": {
   "codemirror_mode": {
    "name": "ipython",
    "version": 3
   },
   "file_extension": ".py",
   "mimetype": "text/x-python",
   "name": "python",
   "nbconvert_exporter": "python",
   "pygments_lexer": "ipython3",
   "version": "3.7.7"
  }
 },
 "nbformat": 4,
 "nbformat_minor": 4
}
